{
 "cells": [
  {
   "cell_type": "markdown",
   "id": "1c24068f",
   "metadata": {},
   "source": [
    "# 2 - APIs Geocode and Foursquare"
   ]
  },
  {
   "cell_type": "markdown",
   "id": "b3daf36d",
   "metadata": {},
   "source": [
    "### Import Libraries"
   ]
  },
  {
   "cell_type": "code",
   "execution_count": 41,
   "id": "a13d2034",
   "metadata": {},
   "outputs": [],
   "source": [
    "import requests \n",
    "import json\n",
    "from pandas import json_normalize\n",
    "import pyjsonviewer\n",
    "from dotenv import load_dotenv\n",
    "import os\n",
    "import pandas as pd\n",
    "from functools import reduce\n",
    "import operator\n",
    "import geopandas as gdp\n",
    "import shapely\n",
    "\n",
    "from pymongo import MongoClient\n",
    "\n",
    "import sys\n",
    "sys.path.append('../')\n",
    "import src.api_functions as af\n",
    "import src.offices_functions as of\n",
    "\n",
    "\n",
    "import warnings\n",
    "warnings.filterwarnings('ignore')"
   ]
  },
  {
   "cell_type": "markdown",
   "id": "16b47206",
   "metadata": {},
   "source": [
    "- NEED 1: The CEO is vegan = 1 --> vegan restaurants\n",
    "\n",
    "- NEED 2: The office dog—\"Dobby\" needs a hairdresser every month. Ensure there's one not too far away = 87 --> vet or pet hairdresser\n",
    "\n",
    "- NEED 3: Everyone in the company is between 25 and 40, give them some place to go party = 87  --> pubs and clubs\n",
    "\n",
    "- NEED 4: 30% of the company staff have at least 1 child = 26 --> nurseries or schools\n",
    "\n",
    "- NEED 5: Designers like to go to design talks and share knowledge. There must be some nearby companies that also do design. = 20 --> gaming companies around\n",
    "\n",
    "- NEED 6: Account managers need to travel a lot = 20 --> airports or train stations\n",
    "\n",
    "- NEED 7: Developers like to be near successful tech startups that have raised at least 1 Million dollars = 15 (Front and Back) --> succesfull tech companies around"
   ]
  },
  {
   "cell_type": "code",
   "execution_count": 2,
   "id": "a562bcdd",
   "metadata": {},
   "outputs": [
    {
     "data": {
      "text/plain": [
       "True"
      ]
     },
     "execution_count": 2,
     "metadata": {},
     "output_type": "execute_result"
    }
   ],
   "source": [
    "load_dotenv()"
   ]
  },
  {
   "cell_type": "code",
   "execution_count": 3,
   "id": "fbd96501",
   "metadata": {},
   "outputs": [],
   "source": [
    "client_id = os.getenv(\"token1\")\n",
    "client_secret = os.getenv(\"token2\")"
   ]
  },
  {
   "cell_type": "markdown",
   "id": "da222314",
   "metadata": {},
   "source": [
    "### We get the coordenates the selected cities"
   ]
  },
  {
   "cell_type": "code",
   "execution_count": 4,
   "id": "1384d8db",
   "metadata": {},
   "outputs": [
    {
     "data": {
      "text/html": [
       "<div>\n",
       "<style scoped>\n",
       "    .dataframe tbody tr th:only-of-type {\n",
       "        vertical-align: middle;\n",
       "    }\n",
       "\n",
       "    .dataframe tbody tr th {\n",
       "        vertical-align: top;\n",
       "    }\n",
       "\n",
       "    .dataframe thead th {\n",
       "        text-align: right;\n",
       "    }\n",
       "</style>\n",
       "<table border=\"1\" class=\"dataframe\">\n",
       "  <thead>\n",
       "    <tr style=\"text-align: right;\">\n",
       "      <th></th>\n",
       "      <th>city</th>\n",
       "      <th>country_code</th>\n",
       "      <th>companies_count</th>\n",
       "    </tr>\n",
       "  </thead>\n",
       "  <tbody>\n",
       "    <tr>\n",
       "      <th>195</th>\n",
       "      <td>San Francisco</td>\n",
       "      <td>USA</td>\n",
       "      <td>39</td>\n",
       "    </tr>\n",
       "    <tr>\n",
       "      <th>154</th>\n",
       "      <td>New York</td>\n",
       "      <td>USA</td>\n",
       "      <td>27</td>\n",
       "    </tr>\n",
       "  </tbody>\n",
       "</table>\n",
       "</div>"
      ],
      "text/plain": [
       "              city country_code  companies_count\n",
       "195  San Francisco          USA               39\n",
       "154       New York          USA               27"
      ]
     },
     "execution_count": 4,
     "metadata": {},
     "output_type": "execute_result"
    }
   ],
   "source": [
    "df_affinity_companies = pd.read_csv(\"affinity_companies.csv\")\n",
    "df_affinity_companies_top_cities =  df_affinity_companies.groupby([\"city\", \"country_code\" ] ).size().to_frame(name = \"companies_count\").reset_index()\n",
    "df_top2_cities = df_affinity_companies_top_cities.nlargest(2,\"companies_count\")\n",
    "df_top2_cities"
   ]
  },
  {
   "cell_type": "markdown",
   "id": "9eb28250",
   "metadata": {},
   "source": [
    "### San Francisco address"
   ]
  },
  {
   "cell_type": "code",
   "execution_count": 5,
   "id": "98200ea9",
   "metadata": {},
   "outputs": [],
   "source": [
    "df_affinity_companies_subset = df_affinity_companies[[\"name\", \"address1\", \"city\", \"latitude\", \"longitude\", \"country_code\"]]\n",
    "df_san_francisco_address = df_affinity_companies_subset[(df_affinity_companies_subset[\"city\"] == \"San Francisco\") & (df_affinity_companies_subset[\"country_code\"] == \"USA\") & (df_affinity_companies_subset[\"name\"] == \"PlayFirst\")]"
   ]
  },
  {
   "cell_type": "code",
   "execution_count": 6,
   "id": "24bade9e",
   "metadata": {},
   "outputs": [
    {
     "data": {
      "text/html": [
       "<div>\n",
       "<style scoped>\n",
       "    .dataframe tbody tr th:only-of-type {\n",
       "        vertical-align: middle;\n",
       "    }\n",
       "\n",
       "    .dataframe tbody tr th {\n",
       "        vertical-align: top;\n",
       "    }\n",
       "\n",
       "    .dataframe thead th {\n",
       "        text-align: right;\n",
       "    }\n",
       "</style>\n",
       "<table border=\"1\" class=\"dataframe\">\n",
       "  <thead>\n",
       "    <tr style=\"text-align: right;\">\n",
       "      <th></th>\n",
       "      <th>name</th>\n",
       "      <th>address1</th>\n",
       "      <th>city</th>\n",
       "      <th>latitude</th>\n",
       "      <th>longitude</th>\n",
       "      <th>country_code</th>\n",
       "    </tr>\n",
       "  </thead>\n",
       "  <tbody>\n",
       "    <tr>\n",
       "      <th>246</th>\n",
       "      <td>PlayFirst</td>\n",
       "      <td>160 Spear St</td>\n",
       "      <td>San Francisco</td>\n",
       "      <td>37.790346</td>\n",
       "      <td>-122.40185</td>\n",
       "      <td>USA</td>\n",
       "    </tr>\n",
       "  </tbody>\n",
       "</table>\n",
       "</div>"
      ],
      "text/plain": [
       "          name      address1           city   latitude  longitude country_code\n",
       "246  PlayFirst  160 Spear St  San Francisco  37.790346 -122.40185          USA"
      ]
     },
     "execution_count": 6,
     "metadata": {},
     "output_type": "execute_result"
    }
   ],
   "source": [
    "df_san_francisco_address"
   ]
  },
  {
   "cell_type": "markdown",
   "id": "c8764855",
   "metadata": {},
   "source": [
    "### New York address"
   ]
  },
  {
   "cell_type": "code",
   "execution_count": 7,
   "id": "6fe12e2f",
   "metadata": {},
   "outputs": [],
   "source": [
    "df_affinity_companies_subset = df_affinity_companies[[\"name\", \"address1\", \"city\", \"latitude\", \"longitude\", \"country_code\"]]\n",
    "df_new_york_address = df_affinity_companies_subset[(df_affinity_companies_subset[\"city\"] == \"New York\") & (df_affinity_companies_subset[\"country_code\"] == \"USA\") & (df_affinity_companies_subset[\"name\"] == \"Major League Gaming\")]"
   ]
  },
  {
   "cell_type": "code",
   "execution_count": 8,
   "id": "5db7f6cd",
   "metadata": {},
   "outputs": [
    {
     "data": {
      "text/html": [
       "<div>\n",
       "<style scoped>\n",
       "    .dataframe tbody tr th:only-of-type {\n",
       "        vertical-align: middle;\n",
       "    }\n",
       "\n",
       "    .dataframe tbody tr th {\n",
       "        vertical-align: top;\n",
       "    }\n",
       "\n",
       "    .dataframe thead th {\n",
       "        text-align: right;\n",
       "    }\n",
       "</style>\n",
       "<table border=\"1\" class=\"dataframe\">\n",
       "  <thead>\n",
       "    <tr style=\"text-align: right;\">\n",
       "      <th></th>\n",
       "      <th>name</th>\n",
       "      <th>address1</th>\n",
       "      <th>city</th>\n",
       "      <th>latitude</th>\n",
       "      <th>longitude</th>\n",
       "      <th>country_code</th>\n",
       "    </tr>\n",
       "  </thead>\n",
       "  <tbody>\n",
       "    <tr>\n",
       "      <th>110</th>\n",
       "      <td>Major League Gaming</td>\n",
       "      <td>3 Park Avenue</td>\n",
       "      <td>New York</td>\n",
       "      <td>40.752672</td>\n",
       "      <td>-73.97593</td>\n",
       "      <td>USA</td>\n",
       "    </tr>\n",
       "  </tbody>\n",
       "</table>\n",
       "</div>"
      ],
      "text/plain": [
       "                    name       address1      city   latitude  longitude  \\\n",
       "110  Major League Gaming  3 Park Avenue  New York  40.752672  -73.97593   \n",
       "\n",
       "    country_code  \n",
       "110          USA  "
      ]
     },
     "execution_count": 8,
     "metadata": {},
     "output_type": "execute_result"
    }
   ],
   "source": [
    "df_new_york_address"
   ]
  },
  {
   "cell_type": "code",
   "execution_count": 9,
   "id": "d6f613ed",
   "metadata": {},
   "outputs": [],
   "source": [
    "top_cities_address = [\"160 Spear St San Francisco USA\", \"3 Park Avenue New York USA\"]"
   ]
  },
  {
   "cell_type": "code",
   "execution_count": 10,
   "id": "9e1c72ce",
   "metadata": {},
   "outputs": [],
   "source": [
    "coords = af.getCoordinates(top_cities_address)"
   ]
  },
  {
   "cell_type": "code",
   "execution_count": 11,
   "id": "fde89b23",
   "metadata": {},
   "outputs": [
    {
     "name": "stdout",
     "output_type": "stream",
     "text": [
      "dict_keys(['standard', 'longt', 'alt', 'elevation', 'latt'])\n",
      "dict_keys(['standard', 'longt', 'alt', 'elevation', 'latt'])\n"
     ]
    }
   ],
   "source": [
    "for k, v in coords.items():\n",
    "    print(v.keys())"
   ]
  },
  {
   "cell_type": "code",
   "execution_count": 12,
   "id": "34e8be51",
   "metadata": {},
   "outputs": [
    {
     "name": "stdout",
     "output_type": "stream",
     "text": [
      "dict_items([('160 Spear St San Francisco USA', {'standard': {'stnumber': '160', 'addresst': 'SPEAR ST', 'postal': '94105-1542', 'region': 'CA', 'prov': 'US', 'city': 'San Francisco', 'countryname': 'United States of America', 'confidence': '1.00'}, 'longt': '-122.39312', 'alt': {}, 'elevation': {}, 'latt': '37.79179'}), ('3 Park Avenue New York USA', {'standard': {'stnumber': '3', 'addresst': 'Park Ave', 'postal': '11201', 'region': 'NY', 'zip': '11201', 'prov': 'US', 'city': 'New York', 'countryname': 'United States of America', 'confidence': '0.9'}, 'longt': '-73.98037', 'alt': {}, 'elevation': {}, 'latt': '40.69651'})])\n"
     ]
    }
   ],
   "source": [
    "print(coords.items())"
   ]
  },
  {
   "cell_type": "code",
   "execution_count": 13,
   "id": "5de0527f",
   "metadata": {},
   "outputs": [],
   "source": [
    "coordinates = af.actualCoordinates(coords)"
   ]
  },
  {
   "cell_type": "code",
   "execution_count": 14,
   "id": "9bf48553",
   "metadata": {},
   "outputs": [
    {
     "data": {
      "text/plain": [
       "{'160 Spear St San Francisco USA': [-122.39312, 37.79179],\n",
       " '3 Park Avenue New York USA': [-73.98037, 40.69651]}"
      ]
     },
     "execution_count": 14,
     "metadata": {},
     "output_type": "execute_result"
    }
   ],
   "source": [
    "coordinates"
   ]
  },
  {
   "cell_type": "markdown",
   "id": "59c6b8d1",
   "metadata": {},
   "source": [
    "### FOURSQUARE API CALLING"
   ]
  },
  {
   "cell_type": "markdown",
   "id": "1e2599fc",
   "metadata": {},
   "source": [
    "We are trying to meet now requirements in bold:\n",
    "\n",
    "#### - NEED 1: The CEO is vegan = 1 --> vegan restaurants\n",
    "\n",
    "#### - NEED 2: The office dog—\"Dobby\" needs a hairdresser every month. Ensure there's one not too far away = 87 --> vet or pet hairdresser\n",
    "\n",
    "#### - NEED 3: Everyone in the company is between 25 and 40, give them some place to go party = 87  --> pubs and clubs\n",
    "\n",
    "#### - NEED 4: 30% of the company staff have at least 1 child = 26 --> nurseries or schools\n",
    "\n",
    "- NEED 5: Designers like to go to design talks and share knowledge. There must be some nearby companies that also do design. = 20 --> gaming companies around\n",
    "\n",
    "#### - NEED 6: Account managers need to travel a lot = 20 --> airports or train stations\n",
    "\n",
    "- NEED 7: Developers like to be near successful tech startups that have raised at least 1 Million dollars = 15 (Front and Back) --> succesfull tech companies around"
   ]
  },
  {
   "cell_type": "code",
   "execution_count": 15,
   "id": "7b0d20bd",
   "metadata": {},
   "outputs": [],
   "source": [
    "queries = [\"Nursery\", \"Preschool\", \"Train Station\", \"Airport\", \"Pub\", \"Club\", \"Vet\", \"Pet Grooming\", \"vegan restaurant\"]"
   ]
  },
  {
   "cell_type": "code",
   "execution_count": 16,
   "id": "2b5ee591",
   "metadata": {},
   "outputs": [],
   "source": [
    "url = \"https://api.foursquare.com/v2/venues/explore\""
   ]
  },
  {
   "cell_type": "code",
   "execution_count": 18,
   "id": "44e5b45b",
   "metadata": {},
   "outputs": [],
   "source": [
    "San_Francisco_USA = af.foursquareQueries(coordinates[\"160 Spear St San Francisco USA\"][1],coordinates[\"160 Spear St San Francisco USA\"][0], url, *queries)"
   ]
  },
  {
   "cell_type": "code",
   "execution_count": 150,
   "id": "ca37bff5",
   "metadata": {},
   "outputs": [],
   "source": [
    "# San_Francisco_USA"
   ]
  },
  {
   "cell_type": "code",
   "execution_count": 21,
   "id": "a18b4514",
   "metadata": {},
   "outputs": [],
   "source": [
    "New_York_USA = af.foursquareQueries(coordinates[\"3 Park Avenue New York USA\"][1],coordinates[\"3 Park Avenue New York USA\"][0], url, *queries)"
   ]
  },
  {
   "cell_type": "markdown",
   "id": "ab91c47d",
   "metadata": {},
   "source": [
    "###  Foursquare to Mongo"
   ]
  },
  {
   "cell_type": "code",
   "execution_count": null,
   "id": "e347353b",
   "metadata": {},
   "outputs": [],
   "source": [
    "# with open('data.json', 'w') as f:\n",
    "#     json.dump(resp, f)"
   ]
  },
  {
   "cell_type": "code",
   "execution_count": null,
   "id": "52b4fe4c",
   "metadata": {},
   "outputs": [],
   "source": [
    "# pyjsonviewer.view_data(json_data=resp)"
   ]
  },
  {
   "cell_type": "code",
   "execution_count": 22,
   "id": "9d509584",
   "metadata": {},
   "outputs": [],
   "source": [
    "San_Francisco_USA2 = af.responseGroups(San_Francisco_USA)"
   ]
  },
  {
   "cell_type": "code",
   "execution_count": 23,
   "id": "fafbf313",
   "metadata": {},
   "outputs": [],
   "source": [
    "New_York_USA2 = af.responseGroups(New_York_USA)"
   ]
  },
  {
   "cell_type": "code",
   "execution_count": 151,
   "id": "1a27aea2",
   "metadata": {},
   "outputs": [],
   "source": [
    "# New_York_USA2"
   ]
  },
  {
   "cell_type": "code",
   "execution_count": null,
   "id": "0d1f24ff",
   "metadata": {},
   "outputs": [],
   "source": [
    "# def getFromDict(diccionario, mapa):\n",
    "#     return reduce(operator.getitem,mapa,diccionario)"
   ]
  },
  {
   "cell_type": "code",
   "execution_count": null,
   "id": "78ed72b5",
   "metadata": {},
   "outputs": [],
   "source": [
    "# def type_point(lista):\n",
    "#     return {\"type\": \"Point\", \n",
    "#             \"coordinates\": lista }"
   ]
  },
  {
   "cell_type": "markdown",
   "id": "efc3e910",
   "metadata": {},
   "source": [
    "### Dictionaries to dataframe"
   ]
  },
  {
   "cell_type": "code",
   "execution_count": 26,
   "id": "09453591",
   "metadata": {},
   "outputs": [],
   "source": [
    "df_san_francisco_usa = af.toDataframe(*San_Francisco_USA2) "
   ]
  },
  {
   "cell_type": "code",
   "execution_count": 27,
   "id": "912dae06",
   "metadata": {},
   "outputs": [
    {
     "data": {
      "text/html": [
       "<div>\n",
       "<style scoped>\n",
       "    .dataframe tbody tr th:only-of-type {\n",
       "        vertical-align: middle;\n",
       "    }\n",
       "\n",
       "    .dataframe tbody tr th {\n",
       "        vertical-align: top;\n",
       "    }\n",
       "\n",
       "    .dataframe thead th {\n",
       "        text-align: right;\n",
       "    }\n",
       "</style>\n",
       "<table border=\"1\" class=\"dataframe\">\n",
       "  <thead>\n",
       "    <tr style=\"text-align: right;\">\n",
       "      <th></th>\n",
       "      <th>name</th>\n",
       "      <th>latitud</th>\n",
       "      <th>longitud</th>\n",
       "      <th>category</th>\n",
       "    </tr>\n",
       "  </thead>\n",
       "  <tbody>\n",
       "    <tr>\n",
       "      <th>0</th>\n",
       "      <td>Bright Horizons at Spear Street</td>\n",
       "      <td>37.790787</td>\n",
       "      <td>-122.392536</td>\n",
       "      <td>[{'id': '4f4532974b9074f6e4fb0104', 'name': 'D...</td>\n",
       "    </tr>\n",
       "  </tbody>\n",
       "</table>\n",
       "</div>"
      ],
      "text/plain": [
       "                              name    latitud    longitud  \\\n",
       "0  Bright Horizons at Spear Street  37.790787 -122.392536   \n",
       "\n",
       "                                            category  \n",
       "0  [{'id': '4f4532974b9074f6e4fb0104', 'name': 'D...  "
      ]
     },
     "execution_count": 27,
     "metadata": {},
     "output_type": "execute_result"
    }
   ],
   "source": [
    "df_san_francisco_usa.head(1)"
   ]
  },
  {
   "cell_type": "code",
   "execution_count": 113,
   "id": "6cbe5d49",
   "metadata": {},
   "outputs": [],
   "source": [
    "# Get key name from category\n",
    "\n",
    "df_san_francisco_usa_final = json_normalize(df_san_francisco_usa[\"category\"])"
   ]
  },
  {
   "cell_type": "code",
   "execution_count": 114,
   "id": "7dbc2a2f",
   "metadata": {},
   "outputs": [
    {
     "data": {
      "text/html": [
       "<div>\n",
       "<style scoped>\n",
       "    .dataframe tbody tr th:only-of-type {\n",
       "        vertical-align: middle;\n",
       "    }\n",
       "\n",
       "    .dataframe tbody tr th {\n",
       "        vertical-align: top;\n",
       "    }\n",
       "\n",
       "    .dataframe thead th {\n",
       "        text-align: right;\n",
       "    }\n",
       "</style>\n",
       "<table border=\"1\" class=\"dataframe\">\n",
       "  <thead>\n",
       "    <tr style=\"text-align: right;\">\n",
       "      <th></th>\n",
       "      <th>0</th>\n",
       "    </tr>\n",
       "  </thead>\n",
       "  <tbody>\n",
       "    <tr>\n",
       "      <th>0</th>\n",
       "      <td>{'id': '4f4532974b9074f6e4fb0104', 'name': 'Da...</td>\n",
       "    </tr>\n",
       "    <tr>\n",
       "      <th>1</th>\n",
       "      <td>{'id': '52e81612bcbc57f1066b7a45', 'name': 'Pr...</td>\n",
       "    </tr>\n",
       "  </tbody>\n",
       "</table>\n",
       "</div>"
      ],
      "text/plain": [
       "                                                   0\n",
       "0  {'id': '4f4532974b9074f6e4fb0104', 'name': 'Da...\n",
       "1  {'id': '52e81612bcbc57f1066b7a45', 'name': 'Pr..."
      ]
     },
     "execution_count": 114,
     "metadata": {},
     "output_type": "execute_result"
    }
   ],
   "source": [
    "df_san_francisco_usa_final.head(2)"
   ]
  },
  {
   "cell_type": "code",
   "execution_count": 115,
   "id": "68a346fc",
   "metadata": {},
   "outputs": [],
   "source": [
    "df_san_francisco_usa_final.rename(columns = {0:'category_all'}, inplace = True)"
   ]
  },
  {
   "cell_type": "code",
   "execution_count": 116,
   "id": "21e27c9b",
   "metadata": {},
   "outputs": [],
   "source": [
    "# df_san_francisco_usa_final.head()"
   ]
  },
  {
   "cell_type": "code",
   "execution_count": 117,
   "id": "2f0bd109",
   "metadata": {},
   "outputs": [],
   "source": [
    "column_dict_keys = [\"name\"]"
   ]
  },
  {
   "cell_type": "code",
   "execution_count": 118,
   "id": "3b67296f",
   "metadata": {},
   "outputs": [
    {
     "data": {
      "text/html": [
       "<div>\n",
       "<style scoped>\n",
       "    .dataframe tbody tr th:only-of-type {\n",
       "        vertical-align: middle;\n",
       "    }\n",
       "\n",
       "    .dataframe tbody tr th {\n",
       "        vertical-align: top;\n",
       "    }\n",
       "\n",
       "    .dataframe thead th {\n",
       "        text-align: right;\n",
       "    }\n",
       "</style>\n",
       "<table border=\"1\" class=\"dataframe\">\n",
       "  <thead>\n",
       "    <tr style=\"text-align: right;\">\n",
       "      <th></th>\n",
       "      <th>category_all</th>\n",
       "      <th>name</th>\n",
       "    </tr>\n",
       "  </thead>\n",
       "  <tbody>\n",
       "    <tr>\n",
       "      <th>0</th>\n",
       "      <td>{'id': '4f4532974b9074f6e4fb0104', 'name': 'Da...</td>\n",
       "      <td>Daycare</td>\n",
       "    </tr>\n",
       "    <tr>\n",
       "      <th>1</th>\n",
       "      <td>{'id': '52e81612bcbc57f1066b7a45', 'name': 'Pr...</td>\n",
       "      <td>Preschool</td>\n",
       "    </tr>\n",
       "    <tr>\n",
       "      <th>2</th>\n",
       "      <td>{'id': '52e81612bcbc57f1066b7a45', 'name': 'Pr...</td>\n",
       "      <td>Preschool</td>\n",
       "    </tr>\n",
       "    <tr>\n",
       "      <th>3</th>\n",
       "      <td>{'id': '52e81612bcbc57f1066b7a45', 'name': 'Pr...</td>\n",
       "      <td>Preschool</td>\n",
       "    </tr>\n",
       "    <tr>\n",
       "      <th>4</th>\n",
       "      <td>{'id': '52e81612bcbc57f1066b7a45', 'name': 'Pr...</td>\n",
       "      <td>Preschool</td>\n",
       "    </tr>\n",
       "  </tbody>\n",
       "</table>\n",
       "</div>"
      ],
      "text/plain": [
       "                                        category_all       name\n",
       "0  {'id': '4f4532974b9074f6e4fb0104', 'name': 'Da...    Daycare\n",
       "1  {'id': '52e81612bcbc57f1066b7a45', 'name': 'Pr...  Preschool\n",
       "2  {'id': '52e81612bcbc57f1066b7a45', 'name': 'Pr...  Preschool\n",
       "3  {'id': '52e81612bcbc57f1066b7a45', 'name': 'Pr...  Preschool\n",
       "4  {'id': '52e81612bcbc57f1066b7a45', 'name': 'Pr...  Preschool"
      ]
     },
     "execution_count": 118,
     "metadata": {},
     "output_type": "execute_result"
    }
   ],
   "source": [
    "of.getFromDictColumn(\"category_all\", column_dict_keys, df_san_francisco_usa_final)"
   ]
  },
  {
   "cell_type": "code",
   "execution_count": 125,
   "id": "1c96347e",
   "metadata": {},
   "outputs": [],
   "source": [
    "df_san_francisco_usa_final2 = df_san_francisco_usa_final.drop(columns=['category_all'])\n",
    "df_san_francisco_usa2 = df_san_francisco_usa.drop(columns=['category'])"
   ]
  },
  {
   "cell_type": "code",
   "execution_count": 126,
   "id": "59ecd3f5",
   "metadata": {},
   "outputs": [
    {
     "data": {
      "text/html": [
       "<div>\n",
       "<style scoped>\n",
       "    .dataframe tbody tr th:only-of-type {\n",
       "        vertical-align: middle;\n",
       "    }\n",
       "\n",
       "    .dataframe tbody tr th {\n",
       "        vertical-align: top;\n",
       "    }\n",
       "\n",
       "    .dataframe thead th {\n",
       "        text-align: right;\n",
       "    }\n",
       "</style>\n",
       "<table border=\"1\" class=\"dataframe\">\n",
       "  <thead>\n",
       "    <tr style=\"text-align: right;\">\n",
       "      <th></th>\n",
       "      <th>category</th>\n",
       "    </tr>\n",
       "  </thead>\n",
       "  <tbody>\n",
       "    <tr>\n",
       "      <th>0</th>\n",
       "      <td>Daycare</td>\n",
       "    </tr>\n",
       "    <tr>\n",
       "      <th>1</th>\n",
       "      <td>Preschool</td>\n",
       "    </tr>\n",
       "  </tbody>\n",
       "</table>\n",
       "</div>"
      ],
      "text/plain": [
       "    category\n",
       "0    Daycare\n",
       "1  Preschool"
      ]
     },
     "execution_count": 126,
     "metadata": {},
     "output_type": "execute_result"
    }
   ],
   "source": [
    "df_san_francisco_usa_final2.rename(columns = {\"name\":\"category\"}, inplace = True)\n",
    "df_san_francisco_usa_final2.head(2)"
   ]
  },
  {
   "cell_type": "code",
   "execution_count": 127,
   "id": "ecc68407",
   "metadata": {},
   "outputs": [],
   "source": [
    "df_san_francisco_usa_final3 = pd.concat([df_san_francisco_usa2, df_san_francisco_usa_final2], axis=1)"
   ]
  },
  {
   "cell_type": "code",
   "execution_count": 131,
   "id": "562b164d",
   "metadata": {},
   "outputs": [
    {
     "data": {
      "text/html": [
       "<div>\n",
       "<style scoped>\n",
       "    .dataframe tbody tr th:only-of-type {\n",
       "        vertical-align: middle;\n",
       "    }\n",
       "\n",
       "    .dataframe tbody tr th {\n",
       "        vertical-align: top;\n",
       "    }\n",
       "\n",
       "    .dataframe thead th {\n",
       "        text-align: right;\n",
       "    }\n",
       "</style>\n",
       "<table border=\"1\" class=\"dataframe\">\n",
       "  <thead>\n",
       "    <tr style=\"text-align: right;\">\n",
       "      <th></th>\n",
       "      <th>name</th>\n",
       "      <th>latitud</th>\n",
       "      <th>longitud</th>\n",
       "      <th>category</th>\n",
       "    </tr>\n",
       "  </thead>\n",
       "  <tbody>\n",
       "    <tr>\n",
       "      <th>0</th>\n",
       "      <td>Bright Horizons at Spear Street</td>\n",
       "      <td>37.790787</td>\n",
       "      <td>-122.392536</td>\n",
       "      <td>Daycare</td>\n",
       "    </tr>\n",
       "    <tr>\n",
       "      <th>1</th>\n",
       "      <td>St. Mary's International Preschool</td>\n",
       "      <td>37.795976</td>\n",
       "      <td>-122.404742</td>\n",
       "      <td>Preschool</td>\n",
       "    </tr>\n",
       "  </tbody>\n",
       "</table>\n",
       "</div>"
      ],
      "text/plain": [
       "                                 name    latitud    longitud   category\n",
       "0     Bright Horizons at Spear Street  37.790787 -122.392536    Daycare\n",
       "1  St. Mary's International Preschool  37.795976 -122.404742  Preschool"
      ]
     },
     "execution_count": 131,
     "metadata": {},
     "output_type": "execute_result"
    }
   ],
   "source": [
    "df_san_francisco_usa_final3.head(2)"
   ]
  },
  {
   "cell_type": "code",
   "execution_count": 129,
   "id": "057ca8f6",
   "metadata": {},
   "outputs": [],
   "source": [
    "df_new_york_usa = af.toDataframe(*New_York_USA2)"
   ]
  },
  {
   "cell_type": "code",
   "execution_count": 130,
   "id": "b7e75a48",
   "metadata": {},
   "outputs": [
    {
     "data": {
      "text/html": [
       "<div>\n",
       "<style scoped>\n",
       "    .dataframe tbody tr th:only-of-type {\n",
       "        vertical-align: middle;\n",
       "    }\n",
       "\n",
       "    .dataframe tbody tr th {\n",
       "        vertical-align: top;\n",
       "    }\n",
       "\n",
       "    .dataframe thead th {\n",
       "        text-align: right;\n",
       "    }\n",
       "</style>\n",
       "<table border=\"1\" class=\"dataframe\">\n",
       "  <thead>\n",
       "    <tr style=\"text-align: right;\">\n",
       "      <th></th>\n",
       "      <th>name</th>\n",
       "      <th>latitud</th>\n",
       "      <th>longitud</th>\n",
       "      <th>category</th>\n",
       "    </tr>\n",
       "  </thead>\n",
       "  <tbody>\n",
       "    <tr>\n",
       "      <th>0</th>\n",
       "      <td>Williamsburg Northside Preschool</td>\n",
       "      <td>40.71657</td>\n",
       "      <td>-73.958664</td>\n",
       "      <td>[{'id': '52e81612bcbc57f1066b7a45', 'name': 'P...</td>\n",
       "    </tr>\n",
       "  </tbody>\n",
       "</table>\n",
       "</div>"
      ],
      "text/plain": [
       "                               name   latitud   longitud  \\\n",
       "0  Williamsburg Northside Preschool  40.71657 -73.958664   \n",
       "\n",
       "                                            category  \n",
       "0  [{'id': '52e81612bcbc57f1066b7a45', 'name': 'P...  "
      ]
     },
     "execution_count": 130,
     "metadata": {},
     "output_type": "execute_result"
    }
   ],
   "source": [
    "df_new_york_usa.head(1)"
   ]
  },
  {
   "cell_type": "code",
   "execution_count": 141,
   "id": "fa400711",
   "metadata": {},
   "outputs": [],
   "source": [
    "# Get key name from category\n",
    "\n",
    "df_new_york_usa_final = json_normalize(df_new_york_usa[\"category\"])"
   ]
  },
  {
   "cell_type": "code",
   "execution_count": 142,
   "id": "1b6e2b5e",
   "metadata": {},
   "outputs": [
    {
     "data": {
      "text/html": [
       "<div>\n",
       "<style scoped>\n",
       "    .dataframe tbody tr th:only-of-type {\n",
       "        vertical-align: middle;\n",
       "    }\n",
       "\n",
       "    .dataframe tbody tr th {\n",
       "        vertical-align: top;\n",
       "    }\n",
       "\n",
       "    .dataframe thead th {\n",
       "        text-align: right;\n",
       "    }\n",
       "</style>\n",
       "<table border=\"1\" class=\"dataframe\">\n",
       "  <thead>\n",
       "    <tr style=\"text-align: right;\">\n",
       "      <th></th>\n",
       "      <th>0</th>\n",
       "    </tr>\n",
       "  </thead>\n",
       "  <tbody>\n",
       "    <tr>\n",
       "      <th>0</th>\n",
       "      <td>{'id': '52e81612bcbc57f1066b7a45', 'name': 'Pr...</td>\n",
       "    </tr>\n",
       "    <tr>\n",
       "      <th>1</th>\n",
       "      <td>{'id': '52e81612bcbc57f1066b7a45', 'name': 'Pr...</td>\n",
       "    </tr>\n",
       "  </tbody>\n",
       "</table>\n",
       "</div>"
      ],
      "text/plain": [
       "                                                   0\n",
       "0  {'id': '52e81612bcbc57f1066b7a45', 'name': 'Pr...\n",
       "1  {'id': '52e81612bcbc57f1066b7a45', 'name': 'Pr..."
      ]
     },
     "execution_count": 142,
     "metadata": {},
     "output_type": "execute_result"
    }
   ],
   "source": [
    "df_new_york_usa_final.head(2)"
   ]
  },
  {
   "cell_type": "code",
   "execution_count": 143,
   "id": "5590616f",
   "metadata": {},
   "outputs": [],
   "source": [
    "df_new_york_usa_final.rename(columns = {0:'category_all'}, inplace = True)"
   ]
  },
  {
   "cell_type": "code",
   "execution_count": 144,
   "id": "11b00ecc",
   "metadata": {},
   "outputs": [
    {
     "data": {
      "text/html": [
       "<div>\n",
       "<style scoped>\n",
       "    .dataframe tbody tr th:only-of-type {\n",
       "        vertical-align: middle;\n",
       "    }\n",
       "\n",
       "    .dataframe tbody tr th {\n",
       "        vertical-align: top;\n",
       "    }\n",
       "\n",
       "    .dataframe thead th {\n",
       "        text-align: right;\n",
       "    }\n",
       "</style>\n",
       "<table border=\"1\" class=\"dataframe\">\n",
       "  <thead>\n",
       "    <tr style=\"text-align: right;\">\n",
       "      <th></th>\n",
       "      <th>category_all</th>\n",
       "      <th>name</th>\n",
       "    </tr>\n",
       "  </thead>\n",
       "  <tbody>\n",
       "    <tr>\n",
       "      <th>0</th>\n",
       "      <td>{'id': '52e81612bcbc57f1066b7a45', 'name': 'Pr...</td>\n",
       "      <td>Preschool</td>\n",
       "    </tr>\n",
       "    <tr>\n",
       "      <th>1</th>\n",
       "      <td>{'id': '52e81612bcbc57f1066b7a45', 'name': 'Pr...</td>\n",
       "      <td>Preschool</td>\n",
       "    </tr>\n",
       "    <tr>\n",
       "      <th>2</th>\n",
       "      <td>{'id': '52e81612bcbc57f1066b7a45', 'name': 'Pr...</td>\n",
       "      <td>Preschool</td>\n",
       "    </tr>\n",
       "    <tr>\n",
       "      <th>3</th>\n",
       "      <td>{'id': '52e81612bcbc57f1066b7a45', 'name': 'Pr...</td>\n",
       "      <td>Preschool</td>\n",
       "    </tr>\n",
       "    <tr>\n",
       "      <th>4</th>\n",
       "      <td>{'id': '52e81612bcbc57f1066b7a45', 'name': 'Pr...</td>\n",
       "      <td>Preschool</td>\n",
       "    </tr>\n",
       "  </tbody>\n",
       "</table>\n",
       "</div>"
      ],
      "text/plain": [
       "                                        category_all       name\n",
       "0  {'id': '52e81612bcbc57f1066b7a45', 'name': 'Pr...  Preschool\n",
       "1  {'id': '52e81612bcbc57f1066b7a45', 'name': 'Pr...  Preschool\n",
       "2  {'id': '52e81612bcbc57f1066b7a45', 'name': 'Pr...  Preschool\n",
       "3  {'id': '52e81612bcbc57f1066b7a45', 'name': 'Pr...  Preschool\n",
       "4  {'id': '52e81612bcbc57f1066b7a45', 'name': 'Pr...  Preschool"
      ]
     },
     "execution_count": 144,
     "metadata": {},
     "output_type": "execute_result"
    }
   ],
   "source": [
    "of.getFromDictColumn(\"category_all\", column_dict_keys, df_new_york_usa_final)"
   ]
  },
  {
   "cell_type": "code",
   "execution_count": 145,
   "id": "4dc4e3af",
   "metadata": {},
   "outputs": [],
   "source": [
    "df_new_york_usa_final2 = df_new_york_usa_final.drop(columns=['category_all'])\n",
    "df_new_york_usa2 = df_new_york_usa.drop(columns=['category'])"
   ]
  },
  {
   "cell_type": "code",
   "execution_count": 146,
   "id": "d84a549d",
   "metadata": {},
   "outputs": [],
   "source": [
    "df_new_york_usa_final2.rename(columns = {\"name\":\"category\"}, inplace = True)\n",
    "# df_new_york_usa_final2.head(2)"
   ]
  },
  {
   "cell_type": "code",
   "execution_count": 147,
   "id": "f702f652",
   "metadata": {},
   "outputs": [
    {
     "data": {
      "text/html": [
       "<div>\n",
       "<style scoped>\n",
       "    .dataframe tbody tr th:only-of-type {\n",
       "        vertical-align: middle;\n",
       "    }\n",
       "\n",
       "    .dataframe tbody tr th {\n",
       "        vertical-align: top;\n",
       "    }\n",
       "\n",
       "    .dataframe thead th {\n",
       "        text-align: right;\n",
       "    }\n",
       "</style>\n",
       "<table border=\"1\" class=\"dataframe\">\n",
       "  <thead>\n",
       "    <tr style=\"text-align: right;\">\n",
       "      <th></th>\n",
       "      <th>name</th>\n",
       "      <th>latitud</th>\n",
       "      <th>longitud</th>\n",
       "      <th>category</th>\n",
       "    </tr>\n",
       "  </thead>\n",
       "  <tbody>\n",
       "    <tr>\n",
       "      <th>0</th>\n",
       "      <td>Williamsburg Northside Preschool</td>\n",
       "      <td>40.716570</td>\n",
       "      <td>-73.958664</td>\n",
       "      <td>Preschool</td>\n",
       "    </tr>\n",
       "    <tr>\n",
       "      <th>1</th>\n",
       "      <td>Smiling Faces Christian Day Care</td>\n",
       "      <td>40.693304</td>\n",
       "      <td>-73.970705</td>\n",
       "      <td>Preschool</td>\n",
       "    </tr>\n",
       "  </tbody>\n",
       "</table>\n",
       "</div>"
      ],
      "text/plain": [
       "                               name    latitud   longitud   category\n",
       "0  Williamsburg Northside Preschool  40.716570 -73.958664  Preschool\n",
       "1  Smiling Faces Christian Day Care  40.693304 -73.970705  Preschool"
      ]
     },
     "execution_count": 147,
     "metadata": {},
     "output_type": "execute_result"
    }
   ],
   "source": [
    "df_new_york_usa_final3 = pd.concat([df_new_york_usa2, df_new_york_usa_final2], axis=1)\n",
    "df_new_york_usa_final3.head(2)"
   ]
  },
  {
   "cell_type": "markdown",
   "id": "cd72ec4b",
   "metadata": {},
   "source": [
    "### Dataframes to csv"
   ]
  },
  {
   "cell_type": "code",
   "execution_count": 148,
   "id": "e701de6f",
   "metadata": {},
   "outputs": [],
   "source": [
    "df_san_francisco_usa_final3.to_csv(\"../data/API_queries/san_francisco_usa.csv\", index = False)"
   ]
  },
  {
   "cell_type": "code",
   "execution_count": 149,
   "id": "1eda671d",
   "metadata": {},
   "outputs": [],
   "source": [
    "df_new_york_usa_final3.to_csv(\"../data/API_queries/new_york_usa.csv\", index = False)"
   ]
  }
 ],
 "metadata": {
  "kernelspec": {
   "display_name": "Python 3 (ipykernel)",
   "language": "python",
   "name": "python3"
  },
  "language_info": {
   "codemirror_mode": {
    "name": "ipython",
    "version": 3
   },
   "file_extension": ".py",
   "mimetype": "text/x-python",
   "name": "python",
   "nbconvert_exporter": "python",
   "pygments_lexer": "ipython3",
   "version": "3.9.2"
  }
 },
 "nbformat": 4,
 "nbformat_minor": 5
}
