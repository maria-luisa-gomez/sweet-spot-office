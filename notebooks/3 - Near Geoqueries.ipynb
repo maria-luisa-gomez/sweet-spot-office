{
 "cells": [
  {
   "cell_type": "markdown",
   "id": "7c535392",
   "metadata": {},
   "source": [
    "# 3 - Location to Geopoints and Near Geoqueries"
   ]
  },
  {
   "cell_type": "markdown",
   "id": "13b2629e",
   "metadata": {},
   "source": [
    "## Libraries"
   ]
  },
  {
   "cell_type": "code",
   "execution_count": 1,
   "id": "38f50ca5",
   "metadata": {},
   "outputs": [],
   "source": [
    "import pandas as pd\n",
    "from bson.json_util import dumps\n",
    "import shapely\n",
    "import geopandas as gdp\n",
    "# import json\n",
    "from pymongo import MongoClient\n",
    "from pymongo import GEOSPHERE\n",
    "\n",
    "import sys\n",
    "sys.path.append('../')\n",
    "import src.pointype_queries_functions as ptf\n",
    "\n",
    "\n",
    "import warnings\n",
    "warnings.filterwarnings('ignore')"
   ]
  },
  {
   "cell_type": "code",
   "execution_count": 2,
   "id": "70acc297",
   "metadata": {},
   "outputs": [],
   "source": [
    "# Import API queries from each city\n",
    "\n",
    "san_francisco_usa = pd.read_csv(\"../data/API_queries/san_francisco_usa.csv\")\n",
    "new_york_usa = pd.read_csv(\"../data/API_queries/new_york_usa.csv\")"
   ]
  },
  {
   "cell_type": "markdown",
   "id": "76bd7c96",
   "metadata": {},
   "source": [
    "### Change coodinates to point type"
   ]
  },
  {
   "cell_type": "code",
   "execution_count": 3,
   "id": "53fd4754",
   "metadata": {},
   "outputs": [],
   "source": [
    "gdf_san_francisco_usa = ptf.typePoint(san_francisco_usa)"
   ]
  },
  {
   "cell_type": "code",
   "execution_count": 4,
   "id": "4c6452cb",
   "metadata": {},
   "outputs": [
    {
     "data": {
      "text/html": [
       "<div>\n",
       "<style scoped>\n",
       "    .dataframe tbody tr th:only-of-type {\n",
       "        vertical-align: middle;\n",
       "    }\n",
       "\n",
       "    .dataframe tbody tr th {\n",
       "        vertical-align: top;\n",
       "    }\n",
       "\n",
       "    .dataframe thead th {\n",
       "        text-align: right;\n",
       "    }\n",
       "</style>\n",
       "<table border=\"1\" class=\"dataframe\">\n",
       "  <thead>\n",
       "    <tr style=\"text-align: right;\">\n",
       "      <th></th>\n",
       "      <th>name</th>\n",
       "      <th>lat</th>\n",
       "      <th>long</th>\n",
       "      <th>category</th>\n",
       "      <th>geometry</th>\n",
       "    </tr>\n",
       "  </thead>\n",
       "  <tbody>\n",
       "    <tr>\n",
       "      <th>0</th>\n",
       "      <td>Bright Horizons at Spear Street</td>\n",
       "      <td>37.790787</td>\n",
       "      <td>-122.392536</td>\n",
       "      <td>Daycare</td>\n",
       "      <td>{'type': 'Point', 'coordinates': (-122.3925358...</td>\n",
       "    </tr>\n",
       "    <tr>\n",
       "      <th>1</th>\n",
       "      <td>St. Mary's International Preschool</td>\n",
       "      <td>37.795976</td>\n",
       "      <td>-122.404742</td>\n",
       "      <td>Preschool</td>\n",
       "      <td>{'type': 'Point', 'coordinates': (-122.404742,...</td>\n",
       "    </tr>\n",
       "  </tbody>\n",
       "</table>\n",
       "</div>"
      ],
      "text/plain": [
       "                                 name        lat        long   category  \\\n",
       "0     Bright Horizons at Spear Street  37.790787 -122.392536    Daycare   \n",
       "1  St. Mary's International Preschool  37.795976 -122.404742  Preschool   \n",
       "\n",
       "                                            geometry  \n",
       "0  {'type': 'Point', 'coordinates': (-122.3925358...  \n",
       "1  {'type': 'Point', 'coordinates': (-122.404742,...  "
      ]
     },
     "execution_count": 4,
     "metadata": {},
     "output_type": "execute_result"
    }
   ],
   "source": [
    "gdf_san_francisco_usa.head(2)"
   ]
  },
  {
   "cell_type": "code",
   "execution_count": 5,
   "id": "c92d429a",
   "metadata": {},
   "outputs": [],
   "source": [
    "gdf_new_york_usa = ptf.typePoint(new_york_usa)"
   ]
  },
  {
   "cell_type": "code",
   "execution_count": 6,
   "id": "4fd35b1d",
   "metadata": {},
   "outputs": [
    {
     "data": {
      "text/html": [
       "<div>\n",
       "<style scoped>\n",
       "    .dataframe tbody tr th:only-of-type {\n",
       "        vertical-align: middle;\n",
       "    }\n",
       "\n",
       "    .dataframe tbody tr th {\n",
       "        vertical-align: top;\n",
       "    }\n",
       "\n",
       "    .dataframe thead th {\n",
       "        text-align: right;\n",
       "    }\n",
       "</style>\n",
       "<table border=\"1\" class=\"dataframe\">\n",
       "  <thead>\n",
       "    <tr style=\"text-align: right;\">\n",
       "      <th></th>\n",
       "      <th>name</th>\n",
       "      <th>lat</th>\n",
       "      <th>long</th>\n",
       "      <th>category</th>\n",
       "      <th>geometry</th>\n",
       "    </tr>\n",
       "  </thead>\n",
       "  <tbody>\n",
       "    <tr>\n",
       "      <th>0</th>\n",
       "      <td>Williamsburg Northside Preschool</td>\n",
       "      <td>40.716570</td>\n",
       "      <td>-73.958664</td>\n",
       "      <td>Preschool</td>\n",
       "      <td>{'type': 'Point', 'coordinates': (-73.95866428...</td>\n",
       "    </tr>\n",
       "    <tr>\n",
       "      <th>1</th>\n",
       "      <td>Smiling Faces Christian Day Care</td>\n",
       "      <td>40.693304</td>\n",
       "      <td>-73.970705</td>\n",
       "      <td>Preschool</td>\n",
       "      <td>{'type': 'Point', 'coordinates': (-73.970705, ...</td>\n",
       "    </tr>\n",
       "  </tbody>\n",
       "</table>\n",
       "</div>"
      ],
      "text/plain": [
       "                               name        lat       long   category  \\\n",
       "0  Williamsburg Northside Preschool  40.716570 -73.958664  Preschool   \n",
       "1  Smiling Faces Christian Day Care  40.693304 -73.970705  Preschool   \n",
       "\n",
       "                                            geometry  \n",
       "0  {'type': 'Point', 'coordinates': (-73.95866428...  \n",
       "1  {'type': 'Point', 'coordinates': (-73.970705, ...  "
      ]
     },
     "execution_count": 6,
     "metadata": {},
     "output_type": "execute_result"
    }
   ],
   "source": [
    "gdf_new_york_usa.head(2)"
   ]
  },
  {
   "cell_type": "markdown",
   "id": "5fc39e97",
   "metadata": {},
   "source": [
    "### Gets queries, distances from venues to our location and creates city collections in our Mongo Database"
   ]
  },
  {
   "cell_type": "markdown",
   "id": "e795e68b",
   "metadata": {},
   "source": [
    "#### San Francisco: 160 Spear St"
   ]
  },
  {
   "cell_type": "code",
   "execution_count": 7,
   "id": "aae23c26",
   "metadata": {},
   "outputs": [],
   "source": [
    "lon, lat = -122.39312, 37.79179\n",
    "max_distance = 6000\n",
    "collection = \"san_francisco\"\n",
    "mongo_database = \"cities_research\""
   ]
  },
  {
   "cell_type": "code",
   "execution_count": 8,
   "id": "5d779ed0",
   "metadata": {},
   "outputs": [
    {
     "name": "stdout",
     "output_type": "stream",
     "text": [
      "This collection is new -> Collection Created\n"
     ]
    }
   ],
   "source": [
    "gdf_san_francisco_usa2 = ptf.nearQueries(gdf_san_francisco_usa, mongo_database, collection, lon, lat, max_distance)"
   ]
  },
  {
   "cell_type": "code",
   "execution_count": 9,
   "id": "fc12a449",
   "metadata": {},
   "outputs": [
    {
     "name": "stdout",
     "output_type": "stream",
     "text": [
      "147 results in san_francisco\n"
     ]
    }
   ],
   "source": [
    "# count results from query\n",
    "ptf.countQueryDocs(\"san_francisco\",\"cities_research\")"
   ]
  },
  {
   "cell_type": "code",
   "execution_count": 10,
   "id": "d1cb67f2",
   "metadata": {},
   "outputs": [
    {
     "data": {
      "text/html": [
       "<div>\n",
       "<style scoped>\n",
       "    .dataframe tbody tr th:only-of-type {\n",
       "        vertical-align: middle;\n",
       "    }\n",
       "\n",
       "    .dataframe tbody tr th {\n",
       "        vertical-align: top;\n",
       "    }\n",
       "\n",
       "    .dataframe thead th {\n",
       "        text-align: right;\n",
       "    }\n",
       "</style>\n",
       "<table border=\"1\" class=\"dataframe\">\n",
       "  <thead>\n",
       "    <tr style=\"text-align: right;\">\n",
       "      <th></th>\n",
       "      <th>_id</th>\n",
       "      <th>name</th>\n",
       "      <th>lat</th>\n",
       "      <th>long</th>\n",
       "      <th>category</th>\n",
       "      <th>geometry</th>\n",
       "      <th>distance</th>\n",
       "    </tr>\n",
       "  </thead>\n",
       "  <tbody>\n",
       "    <tr>\n",
       "      <th>0</th>\n",
       "      <td>6135fecc0c5109129a29ad63</td>\n",
       "      <td>Bright Horizons at Spear Street</td>\n",
       "      <td>37.790787</td>\n",
       "      <td>-122.392536</td>\n",
       "      <td>Daycare</td>\n",
       "      <td>{'type': 'Point', 'coordinates': [-122.3925358...</td>\n",
       "      <td>0.122825</td>\n",
       "    </tr>\n",
       "    <tr>\n",
       "      <th>1</th>\n",
       "      <td>6135fecc0c5109129a29ad81</td>\n",
       "      <td>Millennium Tower Club Level</td>\n",
       "      <td>37.790882</td>\n",
       "      <td>-122.396038</td>\n",
       "      <td>Club House</td>\n",
       "      <td>{'type': 'Point', 'coordinates': [-122.3960379...</td>\n",
       "      <td>0.275584</td>\n",
       "    </tr>\n",
       "  </tbody>\n",
       "</table>\n",
       "</div>"
      ],
      "text/plain": [
       "                        _id                             name        lat  \\\n",
       "0  6135fecc0c5109129a29ad63  Bright Horizons at Spear Street  37.790787   \n",
       "1  6135fecc0c5109129a29ad81      Millennium Tower Club Level  37.790882   \n",
       "\n",
       "         long    category                                           geometry  \\\n",
       "0 -122.392536     Daycare  {'type': 'Point', 'coordinates': [-122.3925358...   \n",
       "1 -122.396038  Club House  {'type': 'Point', 'coordinates': [-122.3960379...   \n",
       "\n",
       "   distance  \n",
       "0  0.122825  \n",
       "1  0.275584  "
      ]
     },
     "execution_count": 10,
     "metadata": {},
     "output_type": "execute_result"
    }
   ],
   "source": [
    "# Creates dataframe\n",
    "df_san_francisco_usa = pd.DataFrame(gdf_san_francisco_usa2)\n",
    "df_san_francisco_usa.head(2)"
   ]
  },
  {
   "cell_type": "markdown",
   "id": "aa49e9fe",
   "metadata": {},
   "source": [
    "#### New York: 3 Park Avenue"
   ]
  },
  {
   "cell_type": "code",
   "execution_count": 11,
   "id": "7f083c35",
   "metadata": {},
   "outputs": [],
   "source": [
    "lon, lat = -73.98037, 40.69651\n",
    "max_distance = 6000\n",
    "collection = \"new_york\"\n",
    "mongo_database = \"cities_research\""
   ]
  },
  {
   "cell_type": "code",
   "execution_count": 12,
   "id": "88fde9ea",
   "metadata": {},
   "outputs": [
    {
     "name": "stdout",
     "output_type": "stream",
     "text": [
      "This collection is new -> Collection Created\n"
     ]
    }
   ],
   "source": [
    "gdf_new_york_usa2 = ptf.nearQueries(gdf_new_york_usa, mongo_database, collection, lon, lat, max_distance)"
   ]
  },
  {
   "cell_type": "code",
   "execution_count": 15,
   "id": "45b2faf6",
   "metadata": {},
   "outputs": [
    {
     "name": "stdout",
     "output_type": "stream",
     "text": [
      "200 results in new_york\n"
     ]
    }
   ],
   "source": [
    "ptf.countQueryDocs(collection, mongo_database)"
   ]
  },
  {
   "cell_type": "code",
   "execution_count": 16,
   "id": "76dddc87",
   "metadata": {},
   "outputs": [
    {
     "data": {
      "text/html": [
       "<div>\n",
       "<style scoped>\n",
       "    .dataframe tbody tr th:only-of-type {\n",
       "        vertical-align: middle;\n",
       "    }\n",
       "\n",
       "    .dataframe tbody tr th {\n",
       "        vertical-align: top;\n",
       "    }\n",
       "\n",
       "    .dataframe thead th {\n",
       "        text-align: right;\n",
       "    }\n",
       "</style>\n",
       "<table border=\"1\" class=\"dataframe\">\n",
       "  <thead>\n",
       "    <tr style=\"text-align: right;\">\n",
       "      <th></th>\n",
       "      <th>_id</th>\n",
       "      <th>name</th>\n",
       "      <th>lat</th>\n",
       "      <th>long</th>\n",
       "      <th>category</th>\n",
       "      <th>geometry</th>\n",
       "      <th>distance</th>\n",
       "    </tr>\n",
       "  </thead>\n",
       "  <tbody>\n",
       "    <tr>\n",
       "      <th>0</th>\n",
       "      <td>6135fed00c5109129a29ae81</td>\n",
       "      <td>NY Penn Station baggage claim</td>\n",
       "      <td>40.702812</td>\n",
       "      <td>-73.983867</td>\n",
       "      <td>Baggage Claim</td>\n",
       "      <td>{'type': 'Point', 'coordinates': [-73.98386667...</td>\n",
       "      <td>0.760208</td>\n",
       "    </tr>\n",
       "    <tr>\n",
       "      <th>1</th>\n",
       "      <td>6135fed00c5109129a29adff</td>\n",
       "      <td>Petits Poussins Brooklyn</td>\n",
       "      <td>40.689946</td>\n",
       "      <td>-73.985047</td>\n",
       "      <td>Preschool</td>\n",
       "      <td>{'type': 'Point', 'coordinates': [-73.98504659...</td>\n",
       "      <td>0.829610</td>\n",
       "    </tr>\n",
       "  </tbody>\n",
       "</table>\n",
       "</div>"
      ],
      "text/plain": [
       "                        _id                           name        lat  \\\n",
       "0  6135fed00c5109129a29ae81  NY Penn Station baggage claim  40.702812   \n",
       "1  6135fed00c5109129a29adff       Petits Poussins Brooklyn  40.689946   \n",
       "\n",
       "        long       category  \\\n",
       "0 -73.983867  Baggage Claim   \n",
       "1 -73.985047      Preschool   \n",
       "\n",
       "                                            geometry  distance  \n",
       "0  {'type': 'Point', 'coordinates': [-73.98386667...  0.760208  \n",
       "1  {'type': 'Point', 'coordinates': [-73.98504659...  0.829610  "
      ]
     },
     "execution_count": 16,
     "metadata": {},
     "output_type": "execute_result"
    }
   ],
   "source": [
    "# Creates dataframe\n",
    "\n",
    "df_new_york_usa = pd.DataFrame(gdf_new_york_usa2)\n",
    "df_new_york_usa.head(2)"
   ]
  },
  {
   "cell_type": "markdown",
   "id": "5b7fc7f0",
   "metadata": {},
   "source": [
    "### Export to csv"
   ]
  },
  {
   "cell_type": "code",
   "execution_count": 17,
   "id": "267b8a80",
   "metadata": {},
   "outputs": [],
   "source": [
    "df_san_francisco_usa.to_csv(\"../data/Near_geoqueries/near_san_francisco.csv\", index = False)"
   ]
  },
  {
   "cell_type": "code",
   "execution_count": 18,
   "id": "cac8c2b8",
   "metadata": {},
   "outputs": [],
   "source": [
    "df_new_york_usa.to_csv(\"../data/Near_geoqueries/near_new_york.csv\", index = False)"
   ]
  }
 ],
 "metadata": {
  "kernelspec": {
   "display_name": "Python 3 (ipykernel)",
   "language": "python",
   "name": "python3"
  },
  "language_info": {
   "codemirror_mode": {
    "name": "ipython",
    "version": 3
   },
   "file_extension": ".py",
   "mimetype": "text/x-python",
   "name": "python",
   "nbconvert_exporter": "python",
   "pygments_lexer": "ipython3",
   "version": "3.9.2"
  }
 },
 "nbformat": 4,
 "nbformat_minor": 5
}
