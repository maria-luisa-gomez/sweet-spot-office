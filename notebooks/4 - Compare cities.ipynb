{
 "cells": [
  {
   "cell_type": "markdown",
   "id": "79b893db",
   "metadata": {},
   "source": [
    "## Libraries"
   ]
  },
  {
   "cell_type": "code",
   "execution_count": 1,
   "id": "01742be0",
   "metadata": {},
   "outputs": [],
   "source": [
    "import pandas as pd\n",
    "import geopandas as gdp\n",
    "import folium\n",
    "from folium import Choropleth, Circle, Marker, Icon, Map\n",
    "from folium.plugins import HeatMap, MarkerCluster\n",
    "import re\n",
    "\n",
    "import sys\n",
    "sys.path.append('../')\n",
    "import src.compare_cities_functions as ccf\n",
    "\n",
    "\n",
    "import warnings\n",
    "warnings.filterwarnings('ignore')"
   ]
  },
  {
   "cell_type": "code",
   "execution_count": 2,
   "id": "79b5d82b",
   "metadata": {},
   "outputs": [],
   "source": [
    "df_san_francisco_usa = pd.read_csv(\"../data/Near_geoqueries/near_san_francisco.csv\")"
   ]
  },
  {
   "cell_type": "code",
   "execution_count": 3,
   "id": "e6febbbf",
   "metadata": {},
   "outputs": [],
   "source": [
    "df_new_york_usa = pd.read_csv(\"../data/Near_geoqueries/near_new_york.csv\")"
   ]
  },
  {
   "cell_type": "markdown",
   "id": "d8409260",
   "metadata": {},
   "source": [
    "## Checking categories Foursquare found"
   ]
  },
  {
   "cell_type": "code",
   "execution_count": 4,
   "id": "b48dd1ac",
   "metadata": {},
   "outputs": [
    {
     "data": {
      "text/plain": [
       "array(['Daycare', 'Club House', 'Vegetarian / Vegan Restaurant', 'Hotel',\n",
       "       'Airport Tram', 'Plane', 'Nightclub', 'Comedy Club', 'Gym',\n",
       "       'Preschool', 'Strip Club', 'Government Building', 'Café',\n",
       "       'Business Service', 'Rental Car Location', 'Cocktail Bar',\n",
       "       'Italian Restaurant', 'Taxi', 'Gym / Fitness Center', 'Resort',\n",
       "       'Tennis Court', 'Airport Service', 'Pet Service', 'Event Space',\n",
       "       'School', 'Grocery Store', 'Bar', 'Park', 'Airport Gate',\n",
       "       'Latin American Restaurant'], dtype=object)"
      ]
     },
     "execution_count": 4,
     "metadata": {},
     "output_type": "execute_result"
    }
   ],
   "source": [
    "df_san_francisco_usa.category.unique()"
   ]
  },
  {
   "cell_type": "code",
   "execution_count": 5,
   "id": "d70ca9f3",
   "metadata": {},
   "outputs": [
    {
     "data": {
      "text/plain": [
       "array(['Baggage Claim', 'Preschool', 'Airport Tram', 'Pet Store',\n",
       "       'Vegetarian / Vegan Restaurant', 'Nightclub', 'Club House',\n",
       "       'Transportation Service', 'Cocktail Bar', 'Music Venue',\n",
       "       'Pet Service', 'Taxi', 'Airport Lounge', 'Rental Car Location',\n",
       "       'Airport', 'General Travel', 'Government Building', 'Plane',\n",
       "       'Rock Club', 'Bank', 'Pub', 'Airport Terminal', 'Bar',\n",
       "       'Taxi Stand', 'Swiss Restaurant', 'Café', 'Scenic Lookout',\n",
       "       'Travel Agency', 'American Restaurant', 'Airport Service',\n",
       "       'Bus Station', 'Art Gallery', 'Boat or Ferry'], dtype=object)"
      ]
     },
     "execution_count": 5,
     "metadata": {},
     "output_type": "execute_result"
    }
   ],
   "source": [
    "df_new_york_usa.category.unique()"
   ]
  },
  {
   "cell_type": "markdown",
   "id": "3af0b754",
   "metadata": {},
   "source": [
    "## Categories consolidation"
   ]
  },
  {
   "cell_type": "markdown",
   "id": "d9a71a65",
   "metadata": {},
   "source": [
    "#### We want to consolidate the categories found into our main categories\n",
    "\n",
    "- NEED 1: The CEO is vegan = 1 --> Vegan Restaurants\n",
    "\n",
    "- NEED 2: The office dog—\"Dobby\" needs a hairdresser every month. Ensure there's one not too far away = 87 --> Pet Services (vet or pet hairdresser)\n",
    "\n",
    "- NEED 3: Everyone in the company is between 25 and 40, give them some place to go party = 87  --> Clubbing (pubs, bars and clubs)\n",
    "\n",
    "- NEED 4: 30% of the company staff have at least 1 child = 26 --> Preschool (nurseries or schools)\n",
    "\n",
    "\n",
    "- NEED 6: Account managers need to travel a lot = 20 --> Transportation (airports or train stations)"
   ]
  },
  {
   "cell_type": "code",
   "execution_count": 6,
   "id": "54de31cd",
   "metadata": {},
   "outputs": [],
   "source": [
    "df_san_francisco_usa[\"category_simplify\"] = df_san_francisco_usa[\"category\"]\n",
    "df_new_york_usa[\"category_simplify\"] = df_new_york_usa[\"category\"]"
   ]
  },
  {
   "cell_type": "code",
   "execution_count": 7,
   "id": "c3499010",
   "metadata": {},
   "outputs": [],
   "source": [
    "ccf.categoryAggr(df_san_francisco_usa, \"category_simplify\")"
   ]
  },
  {
   "cell_type": "code",
   "execution_count": 8,
   "id": "27e2c041",
   "metadata": {},
   "outputs": [],
   "source": [
    "ccf.categoryAggr(df_new_york_usa, \"category_simplify\")"
   ]
  },
  {
   "cell_type": "markdown",
   "id": "9fa6ba10",
   "metadata": {},
   "source": [
    "#### We've got a few categories results that are not of our interest. We delete those results"
   ]
  },
  {
   "cell_type": "code",
   "execution_count": 9,
   "id": "c48cff34",
   "metadata": {},
   "outputs": [],
   "source": [
    "main_requirements_list = ['Preschool', 'Going Out', 'Vegan Restaurant', 'Transportation', 'Pet Services']"
   ]
  },
  {
   "cell_type": "code",
   "execution_count": 10,
   "id": "6bcf6b9a",
   "metadata": {},
   "outputs": [],
   "source": [
    "# For San Francisco\n",
    "df_san_francisco_usa.drop(df_san_francisco_usa.loc[~df_san_francisco_usa['category_simplify'].isin(main_requirements_list)].index, inplace=True)"
   ]
  },
  {
   "cell_type": "code",
   "execution_count": 11,
   "id": "f273745d",
   "metadata": {},
   "outputs": [
    {
     "data": {
      "text/plain": [
       "array(['Preschool', 'Going Out', 'Vegan Restaurant', 'Transportation',\n",
       "       'Pet Services'], dtype=object)"
      ]
     },
     "execution_count": 11,
     "metadata": {},
     "output_type": "execute_result"
    }
   ],
   "source": [
    "df_san_francisco_usa.category_simplify.unique()"
   ]
  },
  {
   "cell_type": "code",
   "execution_count": 12,
   "id": "bb7b276a",
   "metadata": {},
   "outputs": [],
   "source": [
    "# For New York\n",
    "df_new_york_usa.drop(df_new_york_usa.loc[~df_new_york_usa['category_simplify'].isin(main_requirements_list)].index, inplace=True)"
   ]
  },
  {
   "cell_type": "code",
   "execution_count": 13,
   "id": "73d2508c",
   "metadata": {},
   "outputs": [
    {
     "data": {
      "text/plain": [
       "array(['Preschool', 'Transportation', 'Pet Services', 'Vegan Restaurant',\n",
       "       'Going Out'], dtype=object)"
      ]
     },
     "execution_count": 13,
     "metadata": {},
     "output_type": "execute_result"
    }
   ],
   "source": [
    "df_new_york_usa.category_simplify.unique()"
   ]
  },
  {
   "cell_type": "markdown",
   "id": "0473648f",
   "metadata": {},
   "source": [
    "#### We can now put the two dataframes together"
   ]
  },
  {
   "cell_type": "code",
   "execution_count": 14,
   "id": "fc6554ee",
   "metadata": {},
   "outputs": [],
   "source": [
    "df_san_francisco_usa[\"city\"] = \"San Francisco\"\n",
    "df_new_york_usa[\"city\"] = \"New York\""
   ]
  },
  {
   "cell_type": "code",
   "execution_count": 15,
   "id": "06a70dc9",
   "metadata": {},
   "outputs": [
    {
     "data": {
      "text/plain": [
       "(128, 9)"
      ]
     },
     "execution_count": 15,
     "metadata": {},
     "output_type": "execute_result"
    }
   ],
   "source": [
    "df_san_francisco_usa.shape"
   ]
  },
  {
   "cell_type": "code",
   "execution_count": 16,
   "id": "8773c4dd",
   "metadata": {},
   "outputs": [
    {
     "data": {
      "text/plain": [
       "(191, 9)"
      ]
     },
     "execution_count": 16,
     "metadata": {},
     "output_type": "execute_result"
    }
   ],
   "source": [
    "df_new_york_usa.shape"
   ]
  },
  {
   "cell_type": "code",
   "execution_count": 17,
   "id": "5b57b093",
   "metadata": {},
   "outputs": [],
   "source": [
    "df_cities = pd.concat([df_san_francisco_usa, df_new_york_usa], axis=0)"
   ]
  },
  {
   "cell_type": "code",
   "execution_count": 18,
   "id": "ba00b515",
   "metadata": {},
   "outputs": [
    {
     "data": {
      "text/plain": [
       "(319, 9)"
      ]
     },
     "execution_count": 18,
     "metadata": {},
     "output_type": "execute_result"
    }
   ],
   "source": [
    "df_cities.shape"
   ]
  },
  {
   "cell_type": "code",
   "execution_count": 19,
   "id": "9127d67b",
   "metadata": {},
   "outputs": [
    {
     "data": {
      "text/html": [
       "<div>\n",
       "<style scoped>\n",
       "    .dataframe tbody tr th:only-of-type {\n",
       "        vertical-align: middle;\n",
       "    }\n",
       "\n",
       "    .dataframe tbody tr th {\n",
       "        vertical-align: top;\n",
       "    }\n",
       "\n",
       "    .dataframe thead th {\n",
       "        text-align: right;\n",
       "    }\n",
       "</style>\n",
       "<table border=\"1\" class=\"dataframe\">\n",
       "  <thead>\n",
       "    <tr style=\"text-align: right;\">\n",
       "      <th></th>\n",
       "      <th>_id</th>\n",
       "      <th>name</th>\n",
       "      <th>lat</th>\n",
       "      <th>long</th>\n",
       "      <th>category</th>\n",
       "      <th>geometry</th>\n",
       "      <th>distance</th>\n",
       "      <th>category_simplify</th>\n",
       "      <th>city</th>\n",
       "    </tr>\n",
       "  </thead>\n",
       "  <tbody>\n",
       "    <tr>\n",
       "      <th>0</th>\n",
       "      <td>6135fecc0c5109129a29ad63</td>\n",
       "      <td>Bright Horizons at Spear Street</td>\n",
       "      <td>37.790787</td>\n",
       "      <td>-122.392536</td>\n",
       "      <td>Daycare</td>\n",
       "      <td>{'type': 'Point', 'coordinates': [-122.3925358...</td>\n",
       "      <td>0.122825</td>\n",
       "      <td>Preschool</td>\n",
       "      <td>San Francisco</td>\n",
       "    </tr>\n",
       "    <tr>\n",
       "      <th>1</th>\n",
       "      <td>6135fecc0c5109129a29ad81</td>\n",
       "      <td>Millennium Tower Club Level</td>\n",
       "      <td>37.790882</td>\n",
       "      <td>-122.396038</td>\n",
       "      <td>Club House</td>\n",
       "      <td>{'type': 'Point', 'coordinates': [-122.3960379...</td>\n",
       "      <td>0.275584</td>\n",
       "      <td>Going Out</td>\n",
       "      <td>San Francisco</td>\n",
       "    </tr>\n",
       "  </tbody>\n",
       "</table>\n",
       "</div>"
      ],
      "text/plain": [
       "                        _id                             name        lat  \\\n",
       "0  6135fecc0c5109129a29ad63  Bright Horizons at Spear Street  37.790787   \n",
       "1  6135fecc0c5109129a29ad81      Millennium Tower Club Level  37.790882   \n",
       "\n",
       "         long    category                                           geometry  \\\n",
       "0 -122.392536     Daycare  {'type': 'Point', 'coordinates': [-122.3925358...   \n",
       "1 -122.396038  Club House  {'type': 'Point', 'coordinates': [-122.3960379...   \n",
       "\n",
       "   distance category_simplify           city  \n",
       "0  0.122825         Preschool  San Francisco  \n",
       "1  0.275584         Going Out  San Francisco  "
      ]
     },
     "execution_count": 19,
     "metadata": {},
     "output_type": "execute_result"
    }
   ],
   "source": [
    "df_cities.head(2)"
   ]
  },
  {
   "cell_type": "code",
   "execution_count": null,
   "id": "edd95731",
   "metadata": {},
   "outputs": [],
   "source": []
  },
  {
   "cell_type": "markdown",
   "id": "8933ccce",
   "metadata": {},
   "source": [
    "## Calculate City Ranking"
   ]
  },
  {
   "cell_type": "markdown",
   "id": "96cf0645",
   "metadata": {},
   "source": [
    "#### Normalize \"distance\""
   ]
  },
  {
   "cell_type": "markdown",
   "id": "ca6a1e15",
   "metadata": {},
   "source": [
    "Data Normalization is a common practice which consists of transforming numeric columns to a common scale. For this case we are going to use the min-max scaling"
   ]
  },
  {
   "cell_type": "code",
   "execution_count": 20,
   "id": "8cf49772",
   "metadata": {},
   "outputs": [],
   "source": [
    "df_cities_mean = df_cities.groupby([\"category_simplify\", \"city\"]).mean()"
   ]
  },
  {
   "cell_type": "code",
   "execution_count": 21,
   "id": "1e8da06b",
   "metadata": {},
   "outputs": [
    {
     "data": {
      "text/html": [
       "<div>\n",
       "<style scoped>\n",
       "    .dataframe tbody tr th:only-of-type {\n",
       "        vertical-align: middle;\n",
       "    }\n",
       "\n",
       "    .dataframe tbody tr th {\n",
       "        vertical-align: top;\n",
       "    }\n",
       "\n",
       "    .dataframe thead th {\n",
       "        text-align: right;\n",
       "    }\n",
       "</style>\n",
       "<table border=\"1\" class=\"dataframe\">\n",
       "  <thead>\n",
       "    <tr style=\"text-align: right;\">\n",
       "      <th></th>\n",
       "      <th>category_simplify</th>\n",
       "      <th>city</th>\n",
       "      <th>lat</th>\n",
       "      <th>long</th>\n",
       "      <th>distance</th>\n",
       "    </tr>\n",
       "  </thead>\n",
       "  <tbody>\n",
       "    <tr>\n",
       "      <th>0</th>\n",
       "      <td>Going Out</td>\n",
       "      <td>New York</td>\n",
       "      <td>40.708050</td>\n",
       "      <td>-73.973732</td>\n",
       "      <td>3.084052</td>\n",
       "    </tr>\n",
       "    <tr>\n",
       "      <th>1</th>\n",
       "      <td>Going Out</td>\n",
       "      <td>San Francisco</td>\n",
       "      <td>37.779652</td>\n",
       "      <td>-122.410273</td>\n",
       "      <td>2.226409</td>\n",
       "    </tr>\n",
       "    <tr>\n",
       "      <th>2</th>\n",
       "      <td>Pet Services</td>\n",
       "      <td>New York</td>\n",
       "      <td>40.705295</td>\n",
       "      <td>-73.992689</td>\n",
       "      <td>2.582285</td>\n",
       "    </tr>\n",
       "    <tr>\n",
       "      <th>3</th>\n",
       "      <td>Pet Services</td>\n",
       "      <td>San Francisco</td>\n",
       "      <td>37.798542</td>\n",
       "      <td>-122.424608</td>\n",
       "      <td>2.866785</td>\n",
       "    </tr>\n",
       "    <tr>\n",
       "      <th>4</th>\n",
       "      <td>Preschool</td>\n",
       "      <td>New York</td>\n",
       "      <td>40.699645</td>\n",
       "      <td>-73.980175</td>\n",
       "      <td>2.596659</td>\n",
       "    </tr>\n",
       "    <tr>\n",
       "      <th>5</th>\n",
       "      <td>Preschool</td>\n",
       "      <td>San Francisco</td>\n",
       "      <td>37.785115</td>\n",
       "      <td>-122.411324</td>\n",
       "      <td>2.376722</td>\n",
       "    </tr>\n",
       "    <tr>\n",
       "      <th>6</th>\n",
       "      <td>Transportation</td>\n",
       "      <td>New York</td>\n",
       "      <td>40.708783</td>\n",
       "      <td>-73.986910</td>\n",
       "      <td>3.147536</td>\n",
       "    </tr>\n",
       "    <tr>\n",
       "      <th>7</th>\n",
       "      <td>Transportation</td>\n",
       "      <td>San Francisco</td>\n",
       "      <td>37.783843</td>\n",
       "      <td>-122.409873</td>\n",
       "      <td>2.170966</td>\n",
       "    </tr>\n",
       "    <tr>\n",
       "      <th>8</th>\n",
       "      <td>Vegan Restaurant</td>\n",
       "      <td>New York</td>\n",
       "      <td>40.711171</td>\n",
       "      <td>-73.980949</td>\n",
       "      <td>2.834848</td>\n",
       "    </tr>\n",
       "    <tr>\n",
       "      <th>9</th>\n",
       "      <td>Vegan Restaurant</td>\n",
       "      <td>San Francisco</td>\n",
       "      <td>37.781632</td>\n",
       "      <td>-122.415584</td>\n",
       "      <td>2.635020</td>\n",
       "    </tr>\n",
       "  </tbody>\n",
       "</table>\n",
       "</div>"
      ],
      "text/plain": [
       "  category_simplify           city        lat        long  distance\n",
       "0         Going Out       New York  40.708050  -73.973732  3.084052\n",
       "1         Going Out  San Francisco  37.779652 -122.410273  2.226409\n",
       "2      Pet Services       New York  40.705295  -73.992689  2.582285\n",
       "3      Pet Services  San Francisco  37.798542 -122.424608  2.866785\n",
       "4         Preschool       New York  40.699645  -73.980175  2.596659\n",
       "5         Preschool  San Francisco  37.785115 -122.411324  2.376722\n",
       "6    Transportation       New York  40.708783  -73.986910  3.147536\n",
       "7    Transportation  San Francisco  37.783843 -122.409873  2.170966\n",
       "8  Vegan Restaurant       New York  40.711171  -73.980949  2.834848\n",
       "9  Vegan Restaurant  San Francisco  37.781632 -122.415584  2.635020"
      ]
     },
     "execution_count": 21,
     "metadata": {},
     "output_type": "execute_result"
    }
   ],
   "source": [
    "df_cities_mean.reset_index(drop = False)"
   ]
  },
  {
   "cell_type": "code",
   "execution_count": 22,
   "id": "cd47ea71",
   "metadata": {},
   "outputs": [],
   "source": [
    "df_cities_normalized = ccf.min_max_scaling(df_cities_mean, \"distance\")"
   ]
  },
  {
   "cell_type": "code",
   "execution_count": 23,
   "id": "c4d0c6f1",
   "metadata": {},
   "outputs": [],
   "source": [
    "df_cities_normalized[\"importance\"] = df_cities_normalized[\"category_simplify\"]"
   ]
  },
  {
   "cell_type": "code",
   "execution_count": 24,
   "id": "2e3098ee",
   "metadata": {},
   "outputs": [],
   "source": [
    "ccf.importance(df_cities_normalized, \"importance\")"
   ]
  },
  {
   "cell_type": "code",
   "execution_count": 25,
   "id": "fb998799",
   "metadata": {},
   "outputs": [
    {
     "data": {
      "text/html": [
       "<div>\n",
       "<style scoped>\n",
       "    .dataframe tbody tr th:only-of-type {\n",
       "        vertical-align: middle;\n",
       "    }\n",
       "\n",
       "    .dataframe tbody tr th {\n",
       "        vertical-align: top;\n",
       "    }\n",
       "\n",
       "    .dataframe thead th {\n",
       "        text-align: right;\n",
       "    }\n",
       "</style>\n",
       "<table border=\"1\" class=\"dataframe\">\n",
       "  <thead>\n",
       "    <tr style=\"text-align: right;\">\n",
       "      <th></th>\n",
       "      <th>category_simplify</th>\n",
       "      <th>city</th>\n",
       "      <th>lat</th>\n",
       "      <th>long</th>\n",
       "      <th>distance</th>\n",
       "      <th>importance</th>\n",
       "    </tr>\n",
       "  </thead>\n",
       "  <tbody>\n",
       "    <tr>\n",
       "      <th>0</th>\n",
       "      <td>Going Out</td>\n",
       "      <td>New York</td>\n",
       "      <td>40.708050</td>\n",
       "      <td>-73.973732</td>\n",
       "      <td>0.934992</td>\n",
       "      <td>0.20</td>\n",
       "    </tr>\n",
       "    <tr>\n",
       "      <th>1</th>\n",
       "      <td>Going Out</td>\n",
       "      <td>San Francisco</td>\n",
       "      <td>37.779652</td>\n",
       "      <td>-122.410273</td>\n",
       "      <td>0.056773</td>\n",
       "      <td>0.20</td>\n",
       "    </tr>\n",
       "    <tr>\n",
       "      <th>2</th>\n",
       "      <td>Pet Services</td>\n",
       "      <td>New York</td>\n",
       "      <td>40.705295</td>\n",
       "      <td>-73.992689</td>\n",
       "      <td>0.421187</td>\n",
       "      <td>0.25</td>\n",
       "    </tr>\n",
       "    <tr>\n",
       "      <th>3</th>\n",
       "      <td>Pet Services</td>\n",
       "      <td>San Francisco</td>\n",
       "      <td>37.798542</td>\n",
       "      <td>-122.424608</td>\n",
       "      <td>0.712513</td>\n",
       "      <td>0.25</td>\n",
       "    </tr>\n",
       "    <tr>\n",
       "      <th>4</th>\n",
       "      <td>Preschool</td>\n",
       "      <td>New York</td>\n",
       "      <td>40.699645</td>\n",
       "      <td>-73.980175</td>\n",
       "      <td>0.435905</td>\n",
       "      <td>0.15</td>\n",
       "    </tr>\n",
       "  </tbody>\n",
       "</table>\n",
       "</div>"
      ],
      "text/plain": [
       "  category_simplify           city        lat        long  distance  \\\n",
       "0         Going Out       New York  40.708050  -73.973732  0.934992   \n",
       "1         Going Out  San Francisco  37.779652 -122.410273  0.056773   \n",
       "2      Pet Services       New York  40.705295  -73.992689  0.421187   \n",
       "3      Pet Services  San Francisco  37.798542 -122.424608  0.712513   \n",
       "4         Preschool       New York  40.699645  -73.980175  0.435905   \n",
       "\n",
       "   importance  \n",
       "0        0.20  \n",
       "1        0.20  \n",
       "2        0.25  \n",
       "3        0.25  \n",
       "4        0.15  "
      ]
     },
     "execution_count": 25,
     "metadata": {},
     "output_type": "execute_result"
    }
   ],
   "source": [
    "df_cities_normalized.head()"
   ]
  },
  {
   "cell_type": "code",
   "execution_count": 27,
   "id": "8cc69081",
   "metadata": {},
   "outputs": [],
   "source": [
    "# df_cities_normalized.info()"
   ]
  },
  {
   "cell_type": "markdown",
   "id": "87909063",
   "metadata": {},
   "source": [
    "### Weights\n",
    "\n",
    "- Vegan Restaurant = 0.25\n",
    "- Pet Services = 0.25\n",
    "- Going Out = 0.2\n",
    "- Preschool = 0.15\n",
    "- Transportation = 0.15 "
   ]
  },
  {
   "cell_type": "code",
   "execution_count": 28,
   "id": "4a5bd6e3",
   "metadata": {},
   "outputs": [],
   "source": [
    "df_cities_normalized[\"ranking\"] = df_cities_normalized[\"distance\"] * df_cities_normalized[\"importance\"]"
   ]
  },
  {
   "cell_type": "code",
   "execution_count": 29,
   "id": "15b79616",
   "metadata": {},
   "outputs": [],
   "source": [
    "df_cities_normalized2 = df_cities_normalized.groupby([\"city\"]).sum()"
   ]
  },
  {
   "cell_type": "code",
   "execution_count": 30,
   "id": "745f5084",
   "metadata": {},
   "outputs": [
    {
     "data": {
      "text/html": [
       "<div>\n",
       "<style scoped>\n",
       "    .dataframe tbody tr th:only-of-type {\n",
       "        vertical-align: middle;\n",
       "    }\n",
       "\n",
       "    .dataframe tbody tr th {\n",
       "        vertical-align: top;\n",
       "    }\n",
       "\n",
       "    .dataframe thead th {\n",
       "        text-align: right;\n",
       "    }\n",
       "</style>\n",
       "<table border=\"1\" class=\"dataframe\">\n",
       "  <thead>\n",
       "    <tr style=\"text-align: right;\">\n",
       "      <th></th>\n",
       "      <th>lat</th>\n",
       "      <th>long</th>\n",
       "      <th>distance</th>\n",
       "      <th>importance</th>\n",
       "      <th>ranking</th>\n",
       "    </tr>\n",
       "    <tr>\n",
       "      <th>city</th>\n",
       "      <th></th>\n",
       "      <th></th>\n",
       "      <th></th>\n",
       "      <th></th>\n",
       "      <th></th>\n",
       "    </tr>\n",
       "  </thead>\n",
       "  <tbody>\n",
       "    <tr>\n",
       "      <th>San Francisco</th>\n",
       "      <td>188.928784</td>\n",
       "      <td>-612.071661</td>\n",
       "      <td>1.455164</td>\n",
       "      <td>1.0</td>\n",
       "      <td>0.339883</td>\n",
       "    </tr>\n",
       "    <tr>\n",
       "      <th>New York</th>\n",
       "      <td>203.532943</td>\n",
       "      <td>-369.914454</td>\n",
       "      <td>3.471895</td>\n",
       "      <td>1.0</td>\n",
       "      <td>0.677634</td>\n",
       "    </tr>\n",
       "  </tbody>\n",
       "</table>\n",
       "</div>"
      ],
      "text/plain": [
       "                      lat        long  distance  importance   ranking\n",
       "city                                                                 \n",
       "San Francisco  188.928784 -612.071661  1.455164         1.0  0.339883\n",
       "New York       203.532943 -369.914454  3.471895         1.0  0.677634"
      ]
     },
     "execution_count": 30,
     "metadata": {},
     "output_type": "execute_result"
    }
   ],
   "source": [
    "df_cities_normalized2.sort_values(\"ranking\")"
   ]
  },
  {
   "cell_type": "markdown",
   "id": "632a48a9",
   "metadata": {},
   "source": [
    "### We have a winner: [Fake Tales Of San Francisco](https://www.youtube.com/watch?v=ePg1tbia9Bg)"
   ]
  },
  {
   "cell_type": "code",
   "execution_count": 32,
   "id": "3dd954b4",
   "metadata": {},
   "outputs": [],
   "source": [
    "# export dataframe\n",
    "df_san_francisco_usa.to_csv(\"../data/San_Francisco_map_ready/san_francisco_final.csv\", index = False)"
   ]
  }
 ],
 "metadata": {
  "kernelspec": {
   "display_name": "Python 3 (ipykernel)",
   "language": "python",
   "name": "python3"
  },
  "language_info": {
   "codemirror_mode": {
    "name": "ipython",
    "version": 3
   },
   "file_extension": ".py",
   "mimetype": "text/x-python",
   "name": "python",
   "nbconvert_exporter": "python",
   "pygments_lexer": "ipython3",
   "version": "3.9.2"
  }
 },
 "nbformat": 4,
 "nbformat_minor": 5
}
