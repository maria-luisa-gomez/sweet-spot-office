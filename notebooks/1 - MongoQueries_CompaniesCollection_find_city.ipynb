{
 "cells": [
  {
   "cell_type": "markdown",
   "id": "4f439585",
   "metadata": {},
   "source": [
    "## 1 - Mongo DB queries from \"companies\" dataset.\n",
    "#### Find succesfull companies in the GAMING related industry (requirements marked in bold above)"
   ]
  },
  {
   "cell_type": "markdown",
   "id": "865865f2",
   "metadata": {},
   "source": [
    "- NEED 1: The CEO is vegan = 1 --> vegan restaurants\n",
    "\n",
    "- NEED 2: The office dog—\"Dobby\" needs a hairdresser every month. Ensure there's one not too far away = 87 --> vet or pet hairdresser\n",
    "\n",
    "- NEED 3: Everyone in the company is between 25 and 40, give them some place to go party = 87  --> pubs and clubs\n",
    "\n",
    "- NEED 4: 30% of the company staff have at least 1 child = 26 --> nurseries or schools\n",
    "\n",
    "#### - NEED 5: Designers like to go to design talks and share knowledge. There must be some nearby companies that also do design. = 20 --> gaming companies around\n",
    "\n",
    "- NEED 6: Account managers need to travel a lot = 20 --> airports or train stations\n",
    "\n",
    "#### - NEED 7: Developers like to be near successful tech startups that have raised at least 1 Million dollars = 15 (Front and Back) --> succesfull tech companies around"
   ]
  },
  {
   "cell_type": "markdown",
   "id": "b35173a6",
   "metadata": {},
   "source": [
    "### Import libraries"
   ]
  },
  {
   "cell_type": "code",
   "execution_count": 1,
   "id": "1b67cfd6",
   "metadata": {},
   "outputs": [],
   "source": [
    "from pymongo import MongoClient\n",
    "import pandas as pd\n",
    "import numpy as np\n",
    "import json\n",
    "from pandas import json_normalize\n",
    "import matplotlib.pyplot as plt\n",
    "\n",
    "import sys\n",
    "sys.path.append('../')\n",
    "import src.offices_functions as of\n",
    "\n",
    "import warnings\n",
    "warnings.filterwarnings('ignore')\n",
    "\n",
    "\n",
    "\n",
    "# https://www.gameindustrycareerguide.com/best-cities-for-video-game-development-jobs/"
   ]
  },
  {
   "cell_type": "markdown",
   "id": "c4ec4af8",
   "metadata": {},
   "source": [
    "### MongoCompass connection"
   ]
  },
  {
   "cell_type": "code",
   "execution_count": 2,
   "id": "22b618c4",
   "metadata": {},
   "outputs": [],
   "source": [
    "client = MongoClient(\"mongodb://localhost/companies\")\n",
    "db = client.get_database()"
   ]
  },
  {
   "cell_type": "code",
   "execution_count": 3,
   "id": "127e733c",
   "metadata": {},
   "outputs": [
    {
     "data": {
      "text/plain": [
       "[{'name': 'offices',\n",
       "  'type': 'collection',\n",
       "  'options': {},\n",
       "  'info': {'readOnly': False,\n",
       "   'uuid': UUID('933324c1-5c04-4b84-8815-063d72ebe2fa')},\n",
       "  'idIndex': {'v': 2, 'key': {'_id': 1}, 'name': '_id_'}},\n",
       " {'name': 'companies',\n",
       "  'type': 'collection',\n",
       "  'options': {},\n",
       "  'info': {'readOnly': False,\n",
       "   'uuid': UUID('f146ed07-dff2-480b-8c8c-5ecafa04d561')},\n",
       "  'idIndex': {'v': 2, 'key': {'_id': 1}, 'name': '_id_'}}]"
      ]
     },
     "execution_count": 3,
     "metadata": {},
     "output_type": "execute_result"
    }
   ],
   "source": [
    "list(db.list_collections())"
   ]
  },
  {
   "cell_type": "code",
   "execution_count": 4,
   "id": "c0dc1fbc",
   "metadata": {},
   "outputs": [
    {
     "data": {
      "text/plain": [
       "['offices', 'companies']"
      ]
     },
     "execution_count": 4,
     "metadata": {},
     "output_type": "execute_result"
    }
   ],
   "source": [
    "db.list_collection_names()"
   ]
  },
  {
   "cell_type": "code",
   "execution_count": 5,
   "id": "d262f91a",
   "metadata": {},
   "outputs": [
    {
     "data": {
      "text/plain": [
       "Collection(Database(MongoClient(host=['localhost:27017'], document_class=dict, tz_aware=False, connect=True), 'companies'), 'companies')"
      ]
     },
     "execution_count": 5,
     "metadata": {},
     "output_type": "execute_result"
    }
   ],
   "source": [
    "collection = db.get_collection(\"companies\")\n",
    "collection"
   ]
  },
  {
   "cell_type": "code",
   "execution_count": 6,
   "id": "f0fdcf8a",
   "metadata": {},
   "outputs": [],
   "source": [
    "c = collection"
   ]
  },
  {
   "cell_type": "markdown",
   "id": "0f21ee35",
   "metadata": {},
   "source": [
    "### Format offices with several locations"
   ]
  },
  {
   "cell_type": "code",
   "execution_count": 7,
   "id": "bc50fc8c",
   "metadata": {},
   "outputs": [],
   "source": [
    "res = c.aggregate([{\"$unwind\":\"$offices\"},{\"$project\":{\"_id\":0}}])"
   ]
  },
  {
   "cell_type": "code",
   "execution_count": 8,
   "id": "56053c8e",
   "metadata": {
    "scrolled": true
   },
   "outputs": [
    {
     "data": {
      "text/plain": [
       "<pymongo.results.InsertManyResult at 0x7f95e23e6340>"
      ]
     },
     "execution_count": 8,
     "metadata": {},
     "output_type": "execute_result"
    }
   ],
   "source": [
    "offices = client.companies.offices\n",
    "offices.insert_many(res)"
   ]
  },
  {
   "cell_type": "code",
   "execution_count": 9,
   "id": "dd224652",
   "metadata": {},
   "outputs": [],
   "source": [
    "res = c.aggregate([\n",
    "    {\"$unwind\":\"$offices\"},\n",
    "    {\"$match\":{\"offices.latitude\":{\"$ne\":None}, \"offices.longitude\":{\"$ne\":None}}}, # # Give only companies where \"offices.latitude\" and \"offices.longitude\" is not None\n",
    "    {\"$project\":{\"_id\":0}}])"
   ]
  },
  {
   "cell_type": "code",
   "execution_count": 10,
   "id": "cec0813a",
   "metadata": {},
   "outputs": [
    {
     "data": {
      "text/plain": [
       "<pymongo.results.InsertManyResult at 0x7f95f71f1cc0>"
      ]
     },
     "execution_count": 10,
     "metadata": {},
     "output_type": "execute_result"
    }
   ],
   "source": [
    "offices.drop()\n",
    "offices.insert_many(res)"
   ]
  },
  {
   "cell_type": "code",
   "execution_count": 11,
   "id": "a11d6201",
   "metadata": {},
   "outputs": [],
   "source": [
    "res = list(offices.find({},{\"offices\":1}))"
   ]
  },
  {
   "cell_type": "markdown",
   "id": "30e1aa8c",
   "metadata": {},
   "source": [
    "### Companies Search"
   ]
  },
  {
   "cell_type": "markdown",
   "id": "4a105dc7",
   "metadata": {},
   "source": [
    "#### Since the company is in the GAMING industry, employees might be wanted to be close to this other type of companies: games_video and companies in tech"
   ]
  },
  {
   "cell_type": "code",
   "execution_count": 12,
   "id": "f54bf5c1",
   "metadata": {},
   "outputs": [
    {
     "data": {
      "text/plain": [
       "[None,\n",
       " 'advertising',\n",
       " 'analytics',\n",
       " 'automotive',\n",
       " 'biotech',\n",
       " 'cleantech',\n",
       " 'consulting',\n",
       " 'design',\n",
       " 'ecommerce',\n",
       " 'education',\n",
       " 'enterprise',\n",
       " 'fashion',\n",
       " 'finance',\n",
       " 'games_video',\n",
       " 'government',\n",
       " 'hardware',\n",
       " 'health',\n",
       " 'hospitality',\n",
       " 'legal',\n",
       " 'local',\n",
       " 'manufacturing',\n",
       " 'medical',\n",
       " 'messaging',\n",
       " 'mobile',\n",
       " 'music',\n",
       " 'nanotech',\n",
       " 'network_hosting',\n",
       " 'news',\n",
       " 'nonprofit',\n",
       " 'other',\n",
       " 'photo_video',\n",
       " 'public_relations',\n",
       " 'real_estate',\n",
       " 'search',\n",
       " 'security',\n",
       " 'semiconductor',\n",
       " 'social',\n",
       " 'software',\n",
       " 'sports',\n",
       " 'transportation',\n",
       " 'travel',\n",
       " 'web']"
      ]
     },
     "execution_count": 12,
     "metadata": {},
     "output_type": "execute_result"
    }
   ],
   "source": [
    "c.distinct(\"category_code\")"
   ]
  },
  {
   "cell_type": "code",
   "execution_count": 13,
   "id": "a599cbeb",
   "metadata": {},
   "outputs": [],
   "source": [
    "res = list(offices.find({},{\"offices\":1}))"
   ]
  },
  {
   "cell_type": "code",
   "execution_count": 14,
   "id": "f3ca21d9",
   "metadata": {},
   "outputs": [],
   "source": [
    "# select game_video companies\n",
    "category_1 = {\"category_code\": \"games_video\"}\n",
    " \n",
    "\n",
    "# select companies ended in \"tech\" companies\n",
    "category_2 = {\"category_code\":{\"$regex\": \".*tech.*\"}}\n",
    "\n",
    "              \n",
    "# give me only companies that total_money_raised is greater than 1M(€/$)\"\n",
    "cond_1 = {\"total_money_raised\":{\"$regex\": \"M$\"}}\n",
    "              \n",
    "# give me only companies with \"offices.city\"\n",
    "cond_2 = {\"offices.city\": {\"$ne\":None}}\n",
    "cond_3 = {\"offices.city\": {\"$ne\":\"\"}}\n",
    "\n",
    "\n",
    "# we can to make visival the following attributes:\n",
    "categ_proj = {\"_id\":1, \"name\":1, \"offices\":1, \"category_code\":1}"
   ]
  },
  {
   "cell_type": "code",
   "execution_count": 15,
   "id": "10dc6239",
   "metadata": {},
   "outputs": [],
   "source": [
    "affinity_companies = list(offices.find({\"$and\":[{\"$or\":[category_1, category_2]}, cond_1, cond_2, cond_3]}, categ_proj).sort(\"total_money_raised\",-1))"
   ]
  },
  {
   "cell_type": "code",
   "execution_count": 16,
   "id": "1705a57f",
   "metadata": {},
   "outputs": [
    {
     "data": {
      "text/plain": [
       "[{'_id': ObjectId('613517e27c85e5f861db8b05'),\n",
       "  'name': 'Crocus Technology',\n",
       "  'category_code': 'cleantech',\n",
       "  'offices': {'description': 'Headquarters',\n",
       "   'address1': '710 Lakeway Drive, Suite 100',\n",
       "   'address2': '',\n",
       "   'zip_code': '94085',\n",
       "   'city': 'Sunnyvale',\n",
       "   'state_code': 'CA',\n",
       "   'country_code': 'USA',\n",
       "   'latitude': 37.386774,\n",
       "   'longitude': -121.987661}},\n",
       " {'_id': ObjectId('613517e17c85e5f861db806a'),\n",
       "  'name': 'Selatra',\n",
       "  'category_code': 'games_video',\n",
       "  'offices': {'description': 'Irish Office',\n",
       "   'address1': '4500 Airport Business Park',\n",
       "   'address2': 'Kinsale Road',\n",
       "   'zip_code': '',\n",
       "   'city': 'Cork',\n",
       "   'state_code': None,\n",
       "   'country_code': 'IRL',\n",
       "   'latitude': 51.8717115,\n",
       "   'longitude': -8.5010032}},\n",
       " {'_id': ObjectId('613517e27c85e5f861db88f2'),\n",
       "  'name': 'Bigpoint',\n",
       "  'category_code': 'games_video',\n",
       "  'offices': {'description': 'Bigpoint Headquarters',\n",
       "   'address1': 'Drehbahn 47-48',\n",
       "   'address2': '',\n",
       "   'zip_code': '20354',\n",
       "   'city': 'Hamburg',\n",
       "   'state_code': None,\n",
       "   'country_code': 'DEU',\n",
       "   'latitude': 53.5973055,\n",
       "   'longitude': 9.9762519}},\n",
       " {'_id': ObjectId('613517e27c85e5f861db87cc'),\n",
       "  'name': 'Prosensa',\n",
       "  'category_code': 'biotech',\n",
       "  'offices': {'description': None,\n",
       "   'address1': None,\n",
       "   'address2': None,\n",
       "   'zip_code': None,\n",
       "   'city': 'Leiden',\n",
       "   'state_code': '',\n",
       "   'country_code': 'NLD',\n",
       "   'latitude': 52.158494,\n",
       "   'longitude': 4.496199}},\n",
       " {'_id': ObjectId('613517e27c85e5f861db82eb'),\n",
       "  'name': 'Owlient',\n",
       "  'category_code': 'games_video',\n",
       "  'offices': {'description': 'Main Office',\n",
       "   'address1': '26-28 rue de ChambÃ©ry',\n",
       "   'address2': '',\n",
       "   'zip_code': '75015',\n",
       "   'city': 'Paris',\n",
       "   'state_code': None,\n",
       "   'country_code': 'FRA',\n",
       "   'latitude': 48.8308091,\n",
       "   'longitude': 2.3032201}}]"
      ]
     },
     "execution_count": 16,
     "metadata": {},
     "output_type": "execute_result"
    }
   ],
   "source": [
    "affinity_companies[:5]"
   ]
  },
  {
   "cell_type": "code",
   "execution_count": 17,
   "id": "ccba5a82",
   "metadata": {},
   "outputs": [],
   "source": [
    "# Convert to a DataFrame\n",
    "df_affinity_companies = pd.DataFrame(affinity_companies)"
   ]
  },
  {
   "cell_type": "code",
   "execution_count": 18,
   "id": "454d3ba8",
   "metadata": {},
   "outputs": [
    {
     "data": {
      "text/html": [
       "<div>\n",
       "<style scoped>\n",
       "    .dataframe tbody tr th:only-of-type {\n",
       "        vertical-align: middle;\n",
       "    }\n",
       "\n",
       "    .dataframe tbody tr th {\n",
       "        vertical-align: top;\n",
       "    }\n",
       "\n",
       "    .dataframe thead th {\n",
       "        text-align: right;\n",
       "    }\n",
       "</style>\n",
       "<table border=\"1\" class=\"dataframe\">\n",
       "  <thead>\n",
       "    <tr style=\"text-align: right;\">\n",
       "      <th></th>\n",
       "      <th>_id</th>\n",
       "      <th>name</th>\n",
       "      <th>category_code</th>\n",
       "      <th>offices</th>\n",
       "    </tr>\n",
       "  </thead>\n",
       "  <tbody>\n",
       "    <tr>\n",
       "      <th>0</th>\n",
       "      <td>613517e27c85e5f861db8b05</td>\n",
       "      <td>Crocus Technology</td>\n",
       "      <td>cleantech</td>\n",
       "      <td>{'description': 'Headquarters', 'address1': '7...</td>\n",
       "    </tr>\n",
       "    <tr>\n",
       "      <th>1</th>\n",
       "      <td>613517e17c85e5f861db806a</td>\n",
       "      <td>Selatra</td>\n",
       "      <td>games_video</td>\n",
       "      <td>{'description': 'Irish Office', 'address1': '4...</td>\n",
       "    </tr>\n",
       "    <tr>\n",
       "      <th>2</th>\n",
       "      <td>613517e27c85e5f861db88f2</td>\n",
       "      <td>Bigpoint</td>\n",
       "      <td>games_video</td>\n",
       "      <td>{'description': 'Bigpoint Headquarters', 'addr...</td>\n",
       "    </tr>\n",
       "    <tr>\n",
       "      <th>3</th>\n",
       "      <td>613517e27c85e5f861db87cc</td>\n",
       "      <td>Prosensa</td>\n",
       "      <td>biotech</td>\n",
       "      <td>{'description': None, 'address1': None, 'addre...</td>\n",
       "    </tr>\n",
       "    <tr>\n",
       "      <th>4</th>\n",
       "      <td>613517e27c85e5f861db82eb</td>\n",
       "      <td>Owlient</td>\n",
       "      <td>games_video</td>\n",
       "      <td>{'description': 'Main Office', 'address1': '26...</td>\n",
       "    </tr>\n",
       "  </tbody>\n",
       "</table>\n",
       "</div>"
      ],
      "text/plain": [
       "                        _id               name category_code  \\\n",
       "0  613517e27c85e5f861db8b05  Crocus Technology     cleantech   \n",
       "1  613517e17c85e5f861db806a            Selatra   games_video   \n",
       "2  613517e27c85e5f861db88f2           Bigpoint   games_video   \n",
       "3  613517e27c85e5f861db87cc           Prosensa       biotech   \n",
       "4  613517e27c85e5f861db82eb            Owlient   games_video   \n",
       "\n",
       "                                             offices  \n",
       "0  {'description': 'Headquarters', 'address1': '7...  \n",
       "1  {'description': 'Irish Office', 'address1': '4...  \n",
       "2  {'description': 'Bigpoint Headquarters', 'addr...  \n",
       "3  {'description': None, 'address1': None, 'addre...  \n",
       "4  {'description': 'Main Office', 'address1': '26...  "
      ]
     },
     "execution_count": 18,
     "metadata": {},
     "output_type": "execute_result"
    }
   ],
   "source": [
    "df_affinity_companies.head()"
   ]
  },
  {
   "cell_type": "code",
   "execution_count": 19,
   "id": "23866e74",
   "metadata": {},
   "outputs": [],
   "source": [
    "# Get the info within office dicts into column\n",
    "\n",
    "column_dict_keys = [\"address1\", \"address2\", \"city\", \"latitude\", \"longitude\", \"country_code\"]"
   ]
  },
  {
   "cell_type": "code",
   "execution_count": 20,
   "id": "ce81b068",
   "metadata": {},
   "outputs": [
    {
     "data": {
      "text/html": [
       "<div>\n",
       "<style scoped>\n",
       "    .dataframe tbody tr th:only-of-type {\n",
       "        vertical-align: middle;\n",
       "    }\n",
       "\n",
       "    .dataframe tbody tr th {\n",
       "        vertical-align: top;\n",
       "    }\n",
       "\n",
       "    .dataframe thead th {\n",
       "        text-align: right;\n",
       "    }\n",
       "</style>\n",
       "<table border=\"1\" class=\"dataframe\">\n",
       "  <thead>\n",
       "    <tr style=\"text-align: right;\">\n",
       "      <th></th>\n",
       "      <th>_id</th>\n",
       "      <th>name</th>\n",
       "      <th>category_code</th>\n",
       "      <th>offices</th>\n",
       "      <th>address1</th>\n",
       "      <th>address2</th>\n",
       "      <th>city</th>\n",
       "      <th>latitude</th>\n",
       "      <th>longitude</th>\n",
       "      <th>country_code</th>\n",
       "    </tr>\n",
       "  </thead>\n",
       "  <tbody>\n",
       "    <tr>\n",
       "      <th>0</th>\n",
       "      <td>613517e27c85e5f861db8b05</td>\n",
       "      <td>Crocus Technology</td>\n",
       "      <td>cleantech</td>\n",
       "      <td>{'description': 'Headquarters', 'address1': '7...</td>\n",
       "      <td>710 Lakeway Drive, Suite 100</td>\n",
       "      <td></td>\n",
       "      <td>Sunnyvale</td>\n",
       "      <td>37.386774</td>\n",
       "      <td>-121.987661</td>\n",
       "      <td>USA</td>\n",
       "    </tr>\n",
       "    <tr>\n",
       "      <th>1</th>\n",
       "      <td>613517e17c85e5f861db806a</td>\n",
       "      <td>Selatra</td>\n",
       "      <td>games_video</td>\n",
       "      <td>{'description': 'Irish Office', 'address1': '4...</td>\n",
       "      <td>4500 Airport Business Park</td>\n",
       "      <td>Kinsale Road</td>\n",
       "      <td>Cork</td>\n",
       "      <td>51.871712</td>\n",
       "      <td>-8.501003</td>\n",
       "      <td>IRL</td>\n",
       "    </tr>\n",
       "    <tr>\n",
       "      <th>2</th>\n",
       "      <td>613517e27c85e5f861db88f2</td>\n",
       "      <td>Bigpoint</td>\n",
       "      <td>games_video</td>\n",
       "      <td>{'description': 'Bigpoint Headquarters', 'addr...</td>\n",
       "      <td>Drehbahn 47-48</td>\n",
       "      <td></td>\n",
       "      <td>Hamburg</td>\n",
       "      <td>53.597305</td>\n",
       "      <td>9.976252</td>\n",
       "      <td>DEU</td>\n",
       "    </tr>\n",
       "    <tr>\n",
       "      <th>3</th>\n",
       "      <td>613517e27c85e5f861db87cc</td>\n",
       "      <td>Prosensa</td>\n",
       "      <td>biotech</td>\n",
       "      <td>{'description': None, 'address1': None, 'addre...</td>\n",
       "      <td>None</td>\n",
       "      <td>None</td>\n",
       "      <td>Leiden</td>\n",
       "      <td>52.158494</td>\n",
       "      <td>4.496199</td>\n",
       "      <td>NLD</td>\n",
       "    </tr>\n",
       "    <tr>\n",
       "      <th>4</th>\n",
       "      <td>613517e27c85e5f861db82eb</td>\n",
       "      <td>Owlient</td>\n",
       "      <td>games_video</td>\n",
       "      <td>{'description': 'Main Office', 'address1': '26...</td>\n",
       "      <td>26-28 rue de ChambÃ©ry</td>\n",
       "      <td></td>\n",
       "      <td>Paris</td>\n",
       "      <td>48.830809</td>\n",
       "      <td>2.303220</td>\n",
       "      <td>FRA</td>\n",
       "    </tr>\n",
       "  </tbody>\n",
       "</table>\n",
       "</div>"
      ],
      "text/plain": [
       "                        _id               name category_code  \\\n",
       "0  613517e27c85e5f861db8b05  Crocus Technology     cleantech   \n",
       "1  613517e17c85e5f861db806a            Selatra   games_video   \n",
       "2  613517e27c85e5f861db88f2           Bigpoint   games_video   \n",
       "3  613517e27c85e5f861db87cc           Prosensa       biotech   \n",
       "4  613517e27c85e5f861db82eb            Owlient   games_video   \n",
       "\n",
       "                                             offices  \\\n",
       "0  {'description': 'Headquarters', 'address1': '7...   \n",
       "1  {'description': 'Irish Office', 'address1': '4...   \n",
       "2  {'description': 'Bigpoint Headquarters', 'addr...   \n",
       "3  {'description': None, 'address1': None, 'addre...   \n",
       "4  {'description': 'Main Office', 'address1': '26...   \n",
       "\n",
       "                       address1      address2       city   latitude  \\\n",
       "0  710 Lakeway Drive, Suite 100                Sunnyvale  37.386774   \n",
       "1    4500 Airport Business Park  Kinsale Road       Cork  51.871712   \n",
       "2                Drehbahn 47-48                  Hamburg  53.597305   \n",
       "3                          None          None     Leiden  52.158494   \n",
       "4        26-28 rue de ChambÃ©ry                    Paris  48.830809   \n",
       "\n",
       "    longitude country_code  \n",
       "0 -121.987661          USA  \n",
       "1   -8.501003          IRL  \n",
       "2    9.976252          DEU  \n",
       "3    4.496199          NLD  \n",
       "4    2.303220          FRA  "
      ]
     },
     "execution_count": 20,
     "metadata": {},
     "output_type": "execute_result"
    }
   ],
   "source": [
    "of.getFromDictColumn(\"offices\", column_dict_keys, df_affinity_companies)"
   ]
  },
  {
   "cell_type": "code",
   "execution_count": 21,
   "id": "29ea27f0",
   "metadata": {},
   "outputs": [
    {
     "data": {
      "text/html": [
       "<div>\n",
       "<style scoped>\n",
       "    .dataframe tbody tr th:only-of-type {\n",
       "        vertical-align: middle;\n",
       "    }\n",
       "\n",
       "    .dataframe tbody tr th {\n",
       "        vertical-align: top;\n",
       "    }\n",
       "\n",
       "    .dataframe thead th {\n",
       "        text-align: right;\n",
       "    }\n",
       "</style>\n",
       "<table border=\"1\" class=\"dataframe\">\n",
       "  <thead>\n",
       "    <tr style=\"text-align: right;\">\n",
       "      <th></th>\n",
       "      <th>country_code</th>\n",
       "      <th>companies_count</th>\n",
       "    </tr>\n",
       "  </thead>\n",
       "  <tbody>\n",
       "    <tr>\n",
       "      <th>22</th>\n",
       "      <td>USA</td>\n",
       "      <td>440</td>\n",
       "    </tr>\n",
       "    <tr>\n",
       "      <th>2</th>\n",
       "      <td>CAN</td>\n",
       "      <td>14</td>\n",
       "    </tr>\n",
       "    <tr>\n",
       "      <th>10</th>\n",
       "      <td>FRA</td>\n",
       "      <td>11</td>\n",
       "    </tr>\n",
       "  </tbody>\n",
       "</table>\n",
       "</div>"
      ],
      "text/plain": [
       "   country_code  companies_count\n",
       "22          USA              440\n",
       "2           CAN               14\n",
       "10          FRA               11"
      ]
     },
     "execution_count": 21,
     "metadata": {},
     "output_type": "execute_result"
    }
   ],
   "source": [
    "# Create a subset of companies count by country\n",
    "df_affinity_companies_top_countries =  df_affinity_companies.groupby([\"country_code\"] ).size().to_frame(name = \"companies_count\").reset_index()\n",
    "df_top3_countries = df_affinity_companies_top_countries.nlargest(3,\"companies_count\")\n",
    "df_top3_countries"
   ]
  },
  {
   "cell_type": "code",
   "execution_count": 22,
   "id": "bc77f5e1",
   "metadata": {},
   "outputs": [
    {
     "data": {
      "text/html": [
       "<div>\n",
       "<style scoped>\n",
       "    .dataframe tbody tr th:only-of-type {\n",
       "        vertical-align: middle;\n",
       "    }\n",
       "\n",
       "    .dataframe tbody tr th {\n",
       "        vertical-align: top;\n",
       "    }\n",
       "\n",
       "    .dataframe thead th {\n",
       "        text-align: right;\n",
       "    }\n",
       "</style>\n",
       "<table border=\"1\" class=\"dataframe\">\n",
       "  <thead>\n",
       "    <tr style=\"text-align: right;\">\n",
       "      <th></th>\n",
       "      <th>city</th>\n",
       "      <th>country_code</th>\n",
       "      <th>companies_count</th>\n",
       "    </tr>\n",
       "  </thead>\n",
       "  <tbody>\n",
       "    <tr>\n",
       "      <th>195</th>\n",
       "      <td>San Francisco</td>\n",
       "      <td>USA</td>\n",
       "      <td>39</td>\n",
       "    </tr>\n",
       "    <tr>\n",
       "      <th>154</th>\n",
       "      <td>New York</td>\n",
       "      <td>USA</td>\n",
       "      <td>27</td>\n",
       "    </tr>\n",
       "    <tr>\n",
       "      <th>47</th>\n",
       "      <td>Cambridge</td>\n",
       "      <td>USA</td>\n",
       "      <td>13</td>\n",
       "    </tr>\n",
       "  </tbody>\n",
       "</table>\n",
       "</div>"
      ],
      "text/plain": [
       "              city country_code  companies_count\n",
       "195  San Francisco          USA               39\n",
       "154       New York          USA               27\n",
       "47       Cambridge          USA               13"
      ]
     },
     "execution_count": 22,
     "metadata": {},
     "output_type": "execute_result"
    }
   ],
   "source": [
    "# Create a subset of companies count by city\n",
    "\n",
    "df_affinity_companies_top_cities =  df_affinity_companies.groupby([\"city\", \"country_code\" ] ).size().to_frame(name = \"companies_count\").reset_index()\n",
    "df_top3_cities = df_affinity_companies_top_cities.nlargest(3,\"companies_count\")\n",
    "df_top3_cities"
   ]
  },
  {
   "cell_type": "markdown",
   "id": "97fcf9c1",
   "metadata": {},
   "source": [
    "#### This resut tell us that the gaming and tech brain is in USA, precisely in San Francisco and New York "
   ]
  },
  {
   "cell_type": "markdown",
   "id": "b8808193",
   "metadata": {},
   "source": [
    "### Select randomly a company address from each city"
   ]
  },
  {
   "cell_type": "markdown",
   "id": "1db7b494",
   "metadata": {},
   "source": [
    "#### Address in San Franciso"
   ]
  },
  {
   "cell_type": "code",
   "execution_count": 23,
   "id": "7f758b36",
   "metadata": {},
   "outputs": [],
   "source": [
    "df_affinity_companies_subset = df_affinity_companies[[\"name\", \"address1\", \"city\", \"latitude\", \"longitude\", \"country_code\"]]"
   ]
  },
  {
   "cell_type": "code",
   "execution_count": 24,
   "id": "080cc55d",
   "metadata": {},
   "outputs": [],
   "source": [
    "df_san_francisco_companies = df_affinity_companies_subset[(df_affinity_companies_subset[\"city\"] == \"San Francisco\") & (df_affinity_companies_subset[\"country_code\"] == \"USA\")]"
   ]
  },
  {
   "cell_type": "code",
   "execution_count": 25,
   "id": "756fc247",
   "metadata": {},
   "outputs": [
    {
     "data": {
      "text/html": [
       "<div>\n",
       "<style scoped>\n",
       "    .dataframe tbody tr th:only-of-type {\n",
       "        vertical-align: middle;\n",
       "    }\n",
       "\n",
       "    .dataframe tbody tr th {\n",
       "        vertical-align: top;\n",
       "    }\n",
       "\n",
       "    .dataframe thead th {\n",
       "        text-align: right;\n",
       "    }\n",
       "</style>\n",
       "<table border=\"1\" class=\"dataframe\">\n",
       "  <thead>\n",
       "    <tr style=\"text-align: right;\">\n",
       "      <th></th>\n",
       "      <th>name</th>\n",
       "      <th>address1</th>\n",
       "      <th>city</th>\n",
       "      <th>latitude</th>\n",
       "      <th>longitude</th>\n",
       "      <th>country_code</th>\n",
       "    </tr>\n",
       "  </thead>\n",
       "  <tbody>\n",
       "    <tr>\n",
       "      <th>465</th>\n",
       "      <td>Kabam</td>\n",
       "      <td>795 Folsom Street</td>\n",
       "      <td>San Francisco</td>\n",
       "      <td>37.394456</td>\n",
       "      <td>-122.078531</td>\n",
       "      <td>USA</td>\n",
       "    </tr>\n",
       "  </tbody>\n",
       "</table>\n",
       "</div>"
      ],
      "text/plain": [
       "      name           address1           city   latitude   longitude  \\\n",
       "465  Kabam  795 Folsom Street  San Francisco  37.394456 -122.078531   \n",
       "\n",
       "    country_code  \n",
       "465          USA  "
      ]
     },
     "execution_count": 25,
     "metadata": {},
     "output_type": "execute_result"
    }
   ],
   "source": [
    "df_san_francisco_company = df_san_francisco_companies.sample()\n",
    "pd.set_option(\"max_colwidth\", 80)\n",
    "df_san_francisco_company"
   ]
  },
  {
   "cell_type": "markdown",
   "id": "2467471e",
   "metadata": {},
   "source": [
    "#### Address in New York"
   ]
  },
  {
   "cell_type": "code",
   "execution_count": 26,
   "id": "c5da66a4",
   "metadata": {},
   "outputs": [],
   "source": [
    "df_new_york_companies = df_affinity_companies_subset[(df_affinity_companies_subset[\"city\"] == \"New York\") & (df_affinity_companies_subset[\"country_code\"] == \"USA\")]"
   ]
  },
  {
   "cell_type": "code",
   "execution_count": 27,
   "id": "34cf9fe6",
   "metadata": {},
   "outputs": [
    {
     "data": {
      "text/html": [
       "<div>\n",
       "<style scoped>\n",
       "    .dataframe tbody tr th:only-of-type {\n",
       "        vertical-align: middle;\n",
       "    }\n",
       "\n",
       "    .dataframe tbody tr th {\n",
       "        vertical-align: top;\n",
       "    }\n",
       "\n",
       "    .dataframe thead th {\n",
       "        text-align: right;\n",
       "    }\n",
       "</style>\n",
       "<table border=\"1\" class=\"dataframe\">\n",
       "  <thead>\n",
       "    <tr style=\"text-align: right;\">\n",
       "      <th></th>\n",
       "      <th>name</th>\n",
       "      <th>address1</th>\n",
       "      <th>city</th>\n",
       "      <th>latitude</th>\n",
       "      <th>longitude</th>\n",
       "      <th>country_code</th>\n",
       "    </tr>\n",
       "  </thead>\n",
       "  <tbody>\n",
       "    <tr>\n",
       "      <th>434</th>\n",
       "      <td>Stemline Therapeutics</td>\n",
       "      <td>1675 York Avenue</td>\n",
       "      <td>New York</td>\n",
       "      <td>40.777565</td>\n",
       "      <td>-73.945933</td>\n",
       "      <td>USA</td>\n",
       "    </tr>\n",
       "  </tbody>\n",
       "</table>\n",
       "</div>"
      ],
      "text/plain": [
       "                      name          address1      city   latitude  longitude  \\\n",
       "434  Stemline Therapeutics  1675 York Avenue  New York  40.777565 -73.945933   \n",
       "\n",
       "    country_code  \n",
       "434          USA  "
      ]
     },
     "execution_count": 27,
     "metadata": {},
     "output_type": "execute_result"
    }
   ],
   "source": [
    "df_new_york_company = df_new_york_companies.sample()\n",
    "df_new_york_company"
   ]
  },
  {
   "cell_type": "code",
   "execution_count": 28,
   "id": "37c3b7ab",
   "metadata": {},
   "outputs": [],
   "source": [
    "df_affinity_companies.to_csv(\"affinity_companies.csv\", index=0)"
   ]
  },
  {
   "cell_type": "markdown",
   "id": "0e8674b2",
   "metadata": {},
   "source": [
    "#### These three cities will meet two of our employees requirementes:\n",
    "#### - NEED 5: Designers like to go to design talks and share knowledge. There must be some nearby companies that also do design. = 20 --> gaming companies around\n",
    "#### - NEED 7: Developers like to be near successful tech startups that have raised at least 1 Million dollars = 15 (Front and Back) --> succesfull tech companies around"
   ]
  }
 ],
 "metadata": {
  "kernelspec": {
   "display_name": "Python 3 (ipykernel)",
   "language": "python",
   "name": "python3"
  },
  "language_info": {
   "codemirror_mode": {
    "name": "ipython",
    "version": 3
   },
   "file_extension": ".py",
   "mimetype": "text/x-python",
   "name": "python",
   "nbconvert_exporter": "python",
   "pygments_lexer": "ipython3",
   "version": "3.9.2"
  }
 },
 "nbformat": 4,
 "nbformat_minor": 5
}
